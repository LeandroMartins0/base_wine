{
  "nbformat": 4,
  "nbformat_minor": 0,
  "metadata": {
    "colab": {
      "name": "base_wine.ipynb",
      "provenance": [],
      "collapsed_sections": [],
      "mount_file_id": "1K-i6sKW8z5sIKrk3qzPH_OJKV_kYwj4n",
      "authorship_tag": "ABX9TyMqN2CZHm2IQ9f5LelAMd+O",
      "include_colab_link": true
    },
    "kernelspec": {
      "name": "python3",
      "display_name": "Python 3"
    },
    "language_info": {
      "name": "python"
    }
  },
  "cells": [
    {
      "cell_type": "markdown",
      "metadata": {
        "id": "view-in-github",
        "colab_type": "text"
      },
      "source": [
        "<a href=\"https://colab.research.google.com/github/LeandroMartins0/base_wine/blob/main/base_wine.ipynb\" target=\"_parent\"><img src=\"https://colab.research.google.com/assets/colab-badge.svg\" alt=\"Open In Colab\"/></a>"
      ]
    },
    {
      "cell_type": "markdown",
      "source": [
        "# Importação de bibliotecas"
      ],
      "metadata": {
        "id": "JoIItIvFMpex"
      }
    },
    {
      "cell_type": "code",
      "source": [
        "!pip install yellowbrick"
      ],
      "metadata": {
        "id": "xqgjaIuLMt2B",
        "colab": {
          "base_uri": "https://localhost:8080/"
        },
        "outputId": "de85df64-41e3-4a23-e727-64d89ab456b7"
      },
      "execution_count": 1,
      "outputs": [
        {
          "output_type": "stream",
          "name": "stdout",
          "text": [
            "Requirement already satisfied: yellowbrick in /usr/local/lib/python3.7/dist-packages (1.4)\n",
            "Requirement already satisfied: cycler>=0.10.0 in /usr/local/lib/python3.7/dist-packages (from yellowbrick) (0.11.0)\n",
            "Requirement already satisfied: scikit-learn>=1.0.0 in /usr/local/lib/python3.7/dist-packages (from yellowbrick) (1.0.2)\n",
            "Requirement already satisfied: scipy>=1.0.0 in /usr/local/lib/python3.7/dist-packages (from yellowbrick) (1.4.1)\n",
            "Requirement already satisfied: matplotlib!=3.0.0,>=2.0.2 in /usr/local/lib/python3.7/dist-packages (from yellowbrick) (3.2.2)\n",
            "Requirement already satisfied: numpy>=1.16.0 in /usr/local/lib/python3.7/dist-packages (from yellowbrick) (1.21.5)\n",
            "Requirement already satisfied: python-dateutil>=2.1 in /usr/local/lib/python3.7/dist-packages (from matplotlib!=3.0.0,>=2.0.2->yellowbrick) (2.8.2)\n",
            "Requirement already satisfied: kiwisolver>=1.0.1 in /usr/local/lib/python3.7/dist-packages (from matplotlib!=3.0.0,>=2.0.2->yellowbrick) (1.4.0)\n",
            "Requirement already satisfied: pyparsing!=2.0.4,!=2.1.2,!=2.1.6,>=2.0.1 in /usr/local/lib/python3.7/dist-packages (from matplotlib!=3.0.0,>=2.0.2->yellowbrick) (3.0.7)\n",
            "Requirement already satisfied: typing-extensions in /usr/local/lib/python3.7/dist-packages (from kiwisolver>=1.0.1->matplotlib!=3.0.0,>=2.0.2->yellowbrick) (3.10.0.2)\n",
            "Requirement already satisfied: six>=1.5 in /usr/local/lib/python3.7/dist-packages (from python-dateutil>=2.1->matplotlib!=3.0.0,>=2.0.2->yellowbrick) (1.15.0)\n",
            "Requirement already satisfied: joblib>=0.11 in /usr/local/lib/python3.7/dist-packages (from scikit-learn>=1.0.0->yellowbrick) (1.1.0)\n",
            "Requirement already satisfied: threadpoolctl>=2.0.0 in /usr/local/lib/python3.7/dist-packages (from scikit-learn>=1.0.0->yellowbrick) (3.1.0)\n"
          ]
        }
      ]
    },
    {
      "cell_type": "code",
      "source": [
        "!pip install plotpy"
      ],
      "metadata": {
        "id": "LxF98I82Mwlx",
        "colab": {
          "base_uri": "https://localhost:8080/"
        },
        "outputId": "04377a34-7fa2-4dde-8ea0-09c6f046d7b7"
      },
      "execution_count": 2,
      "outputs": [
        {
          "output_type": "stream",
          "name": "stdout",
          "text": [
            "Collecting plotpy\n",
            "  Downloading plotpy-1.2.0.tar.gz (6.0 MB)\n",
            "\u001b[K     |████████████████████████████████| 6.0 MB 1.1 MB/s \n",
            "\u001b[?25hRequirement already satisfied: numpy>=1.3 in /usr/local/lib/python3.7/dist-packages (from plotpy) (1.21.5)\n",
            "Requirement already satisfied: SciPy>=0.7 in /usr/local/lib/python3.7/dist-packages (from plotpy) (1.4.1)\n",
            "Requirement already satisfied: Pillow in /usr/local/lib/python3.7/dist-packages (from plotpy) (7.1.2)\n",
            "Collecting PythonQwt==0.9.0\n",
            "  Downloading PythonQwt-0.9.0-py2.py3-none-any.whl (730 kB)\n",
            "\u001b[K     |████████████████████████████████| 730 kB 45.6 MB/s \n",
            "\u001b[?25hCollecting h5py==2.8.0\n",
            "  Downloading h5py-2.8.0-cp37-cp37m-manylinux1_x86_64.whl (2.8 MB)\n",
            "\u001b[K     |████████████████████████████████| 2.8 MB 37.3 MB/s \n",
            "\u001b[?25hRequirement already satisfied: chardet in /usr/local/lib/python3.7/dist-packages (from plotpy) (3.0.4)\n",
            "Requirement already satisfied: six in /usr/local/lib/python3.7/dist-packages (from h5py==2.8.0->plotpy) (1.15.0)\n",
            "Requirement already satisfied: QtPy>=1.3 in /usr/local/lib/python3.7/dist-packages (from PythonQwt==0.9.0->plotpy) (2.0.1)\n",
            "Requirement already satisfied: packaging in /usr/local/lib/python3.7/dist-packages (from QtPy>=1.3->PythonQwt==0.9.0->plotpy) (21.3)\n",
            "Requirement already satisfied: pyparsing!=3.0.5,>=2.0.2 in /usr/local/lib/python3.7/dist-packages (from packaging->QtPy>=1.3->PythonQwt==0.9.0->plotpy) (3.0.7)\n",
            "Building wheels for collected packages: plotpy\n",
            "  Building wheel for plotpy (setup.py) ... \u001b[?25l\u001b[?25hdone\n",
            "  Created wheel for plotpy: filename=plotpy-1.2.0-cp37-cp37m-linux_x86_64.whl size=7382266 sha256=1ac84b6688503e44dc0cf6b903ddd245fb1e2d357022eb43a04f09826d73bb31\n",
            "  Stored in directory: /root/.cache/pip/wheels/cd/40/2a/df0b684e5f9309e48061909617ab9518787b5d87a6deb94e08\n",
            "Successfully built plotpy\n",
            "Installing collected packages: PythonQwt, h5py, plotpy\n",
            "  Attempting uninstall: h5py\n",
            "    Found existing installation: h5py 3.1.0\n",
            "    Uninstalling h5py-3.1.0:\n",
            "      Successfully uninstalled h5py-3.1.0\n",
            "\u001b[31mERROR: pip's dependency resolver does not currently take into account all the packages that are installed. This behaviour is the source of the following dependency conflicts.\n",
            "tensorflow 2.8.0 requires tf-estimator-nightly==2.8.0.dev2021122109, which is not installed.\n",
            "tensorflow 2.8.0 requires h5py>=2.9.0, but you have h5py 2.8.0 which is incompatible.\u001b[0m\n",
            "Successfully installed PythonQwt-0.9.0 h5py-2.8.0 plotpy-1.2.0\n"
          ]
        }
      ]
    },
    {
      "cell_type": "code",
      "source": [
        "import pandas as pd\n",
        "import numpy as np\n",
        "import matplotlib.pyplot as plt\n",
        "import seaborn as sns\n",
        "import plotly.express as px\n",
        "from sklearn.metrics import accuracy_score, confusion_matrix, classification_report\n",
        "from yellowbrick.classifier import ConfusionMatrix"
      ],
      "metadata": {
        "id": "YY-oxm8DM3Dt"
      },
      "execution_count": 3,
      "outputs": []
    },
    {
      "cell_type": "code",
      "source": [
        "base_wine = pd.read_csv('/content/drive/MyDrive/Python Machine Learning/Wine Quality/winequality-white.csv', sep = ';')"
      ],
      "metadata": {
        "id": "M_SVJJTaNOKG"
      },
      "execution_count": 4,
      "outputs": []
    },
    {
      "cell_type": "markdown",
      "source": [
        "# Estudo da base"
      ],
      "metadata": {
        "id": "6PJFmOxlN4Ha"
      }
    },
    {
      "cell_type": "code",
      "source": [
        "base_wine"
      ],
      "metadata": {
        "colab": {
          "base_uri": "https://localhost:8080/",
          "height": 485
        },
        "id": "88264NN9ODzA",
        "outputId": "0713cf59-d7cd-425b-e02c-91707acad6f3"
      },
      "execution_count": 5,
      "outputs": [
        {
          "output_type": "execute_result",
          "data": {
            "text/plain": [
              "      fixed acidity  volatile acidity  citric acid  residual sugar  chlorides  \\\n",
              "0               7.0              0.27         0.36            20.7      0.045   \n",
              "1               6.3              0.30         0.34             1.6      0.049   \n",
              "2               8.1              0.28         0.40             6.9      0.050   \n",
              "3               7.2              0.23         0.32             8.5      0.058   \n",
              "4               7.2              0.23         0.32             8.5      0.058   \n",
              "...             ...               ...          ...             ...        ...   \n",
              "4893            6.2              0.21         0.29             1.6      0.039   \n",
              "4894            6.6              0.32         0.36             8.0      0.047   \n",
              "4895            6.5              0.24         0.19             1.2      0.041   \n",
              "4896            5.5              0.29         0.30             1.1      0.022   \n",
              "4897            6.0              0.21         0.38             0.8      0.020   \n",
              "\n",
              "      free sulfur dioxide  total sulfur dioxide  density    pH  sulphates  \\\n",
              "0                    45.0                 170.0  1.00100  3.00       0.45   \n",
              "1                    14.0                 132.0  0.99400  3.30       0.49   \n",
              "2                    30.0                  97.0  0.99510  3.26       0.44   \n",
              "3                    47.0                 186.0  0.99560  3.19       0.40   \n",
              "4                    47.0                 186.0  0.99560  3.19       0.40   \n",
              "...                   ...                   ...      ...   ...        ...   \n",
              "4893                 24.0                  92.0  0.99114  3.27       0.50   \n",
              "4894                 57.0                 168.0  0.99490  3.15       0.46   \n",
              "4895                 30.0                 111.0  0.99254  2.99       0.46   \n",
              "4896                 20.0                 110.0  0.98869  3.34       0.38   \n",
              "4897                 22.0                  98.0  0.98941  3.26       0.32   \n",
              "\n",
              "      alcohol  quality  \n",
              "0         8.8        6  \n",
              "1         9.5        6  \n",
              "2        10.1        6  \n",
              "3         9.9        6  \n",
              "4         9.9        6  \n",
              "...       ...      ...  \n",
              "4893     11.2        6  \n",
              "4894      9.6        5  \n",
              "4895      9.4        6  \n",
              "4896     12.8        7  \n",
              "4897     11.8        6  \n",
              "\n",
              "[4898 rows x 12 columns]"
            ],
            "text/html": [
              "\n",
              "  <div id=\"df-7e0f5e35-5c67-4a20-9ad0-0301efe03239\">\n",
              "    <div class=\"colab-df-container\">\n",
              "      <div>\n",
              "<style scoped>\n",
              "    .dataframe tbody tr th:only-of-type {\n",
              "        vertical-align: middle;\n",
              "    }\n",
              "\n",
              "    .dataframe tbody tr th {\n",
              "        vertical-align: top;\n",
              "    }\n",
              "\n",
              "    .dataframe thead th {\n",
              "        text-align: right;\n",
              "    }\n",
              "</style>\n",
              "<table border=\"1\" class=\"dataframe\">\n",
              "  <thead>\n",
              "    <tr style=\"text-align: right;\">\n",
              "      <th></th>\n",
              "      <th>fixed acidity</th>\n",
              "      <th>volatile acidity</th>\n",
              "      <th>citric acid</th>\n",
              "      <th>residual sugar</th>\n",
              "      <th>chlorides</th>\n",
              "      <th>free sulfur dioxide</th>\n",
              "      <th>total sulfur dioxide</th>\n",
              "      <th>density</th>\n",
              "      <th>pH</th>\n",
              "      <th>sulphates</th>\n",
              "      <th>alcohol</th>\n",
              "      <th>quality</th>\n",
              "    </tr>\n",
              "  </thead>\n",
              "  <tbody>\n",
              "    <tr>\n",
              "      <th>0</th>\n",
              "      <td>7.0</td>\n",
              "      <td>0.27</td>\n",
              "      <td>0.36</td>\n",
              "      <td>20.7</td>\n",
              "      <td>0.045</td>\n",
              "      <td>45.0</td>\n",
              "      <td>170.0</td>\n",
              "      <td>1.00100</td>\n",
              "      <td>3.00</td>\n",
              "      <td>0.45</td>\n",
              "      <td>8.8</td>\n",
              "      <td>6</td>\n",
              "    </tr>\n",
              "    <tr>\n",
              "      <th>1</th>\n",
              "      <td>6.3</td>\n",
              "      <td>0.30</td>\n",
              "      <td>0.34</td>\n",
              "      <td>1.6</td>\n",
              "      <td>0.049</td>\n",
              "      <td>14.0</td>\n",
              "      <td>132.0</td>\n",
              "      <td>0.99400</td>\n",
              "      <td>3.30</td>\n",
              "      <td>0.49</td>\n",
              "      <td>9.5</td>\n",
              "      <td>6</td>\n",
              "    </tr>\n",
              "    <tr>\n",
              "      <th>2</th>\n",
              "      <td>8.1</td>\n",
              "      <td>0.28</td>\n",
              "      <td>0.40</td>\n",
              "      <td>6.9</td>\n",
              "      <td>0.050</td>\n",
              "      <td>30.0</td>\n",
              "      <td>97.0</td>\n",
              "      <td>0.99510</td>\n",
              "      <td>3.26</td>\n",
              "      <td>0.44</td>\n",
              "      <td>10.1</td>\n",
              "      <td>6</td>\n",
              "    </tr>\n",
              "    <tr>\n",
              "      <th>3</th>\n",
              "      <td>7.2</td>\n",
              "      <td>0.23</td>\n",
              "      <td>0.32</td>\n",
              "      <td>8.5</td>\n",
              "      <td>0.058</td>\n",
              "      <td>47.0</td>\n",
              "      <td>186.0</td>\n",
              "      <td>0.99560</td>\n",
              "      <td>3.19</td>\n",
              "      <td>0.40</td>\n",
              "      <td>9.9</td>\n",
              "      <td>6</td>\n",
              "    </tr>\n",
              "    <tr>\n",
              "      <th>4</th>\n",
              "      <td>7.2</td>\n",
              "      <td>0.23</td>\n",
              "      <td>0.32</td>\n",
              "      <td>8.5</td>\n",
              "      <td>0.058</td>\n",
              "      <td>47.0</td>\n",
              "      <td>186.0</td>\n",
              "      <td>0.99560</td>\n",
              "      <td>3.19</td>\n",
              "      <td>0.40</td>\n",
              "      <td>9.9</td>\n",
              "      <td>6</td>\n",
              "    </tr>\n",
              "    <tr>\n",
              "      <th>...</th>\n",
              "      <td>...</td>\n",
              "      <td>...</td>\n",
              "      <td>...</td>\n",
              "      <td>...</td>\n",
              "      <td>...</td>\n",
              "      <td>...</td>\n",
              "      <td>...</td>\n",
              "      <td>...</td>\n",
              "      <td>...</td>\n",
              "      <td>...</td>\n",
              "      <td>...</td>\n",
              "      <td>...</td>\n",
              "    </tr>\n",
              "    <tr>\n",
              "      <th>4893</th>\n",
              "      <td>6.2</td>\n",
              "      <td>0.21</td>\n",
              "      <td>0.29</td>\n",
              "      <td>1.6</td>\n",
              "      <td>0.039</td>\n",
              "      <td>24.0</td>\n",
              "      <td>92.0</td>\n",
              "      <td>0.99114</td>\n",
              "      <td>3.27</td>\n",
              "      <td>0.50</td>\n",
              "      <td>11.2</td>\n",
              "      <td>6</td>\n",
              "    </tr>\n",
              "    <tr>\n",
              "      <th>4894</th>\n",
              "      <td>6.6</td>\n",
              "      <td>0.32</td>\n",
              "      <td>0.36</td>\n",
              "      <td>8.0</td>\n",
              "      <td>0.047</td>\n",
              "      <td>57.0</td>\n",
              "      <td>168.0</td>\n",
              "      <td>0.99490</td>\n",
              "      <td>3.15</td>\n",
              "      <td>0.46</td>\n",
              "      <td>9.6</td>\n",
              "      <td>5</td>\n",
              "    </tr>\n",
              "    <tr>\n",
              "      <th>4895</th>\n",
              "      <td>6.5</td>\n",
              "      <td>0.24</td>\n",
              "      <td>0.19</td>\n",
              "      <td>1.2</td>\n",
              "      <td>0.041</td>\n",
              "      <td>30.0</td>\n",
              "      <td>111.0</td>\n",
              "      <td>0.99254</td>\n",
              "      <td>2.99</td>\n",
              "      <td>0.46</td>\n",
              "      <td>9.4</td>\n",
              "      <td>6</td>\n",
              "    </tr>\n",
              "    <tr>\n",
              "      <th>4896</th>\n",
              "      <td>5.5</td>\n",
              "      <td>0.29</td>\n",
              "      <td>0.30</td>\n",
              "      <td>1.1</td>\n",
              "      <td>0.022</td>\n",
              "      <td>20.0</td>\n",
              "      <td>110.0</td>\n",
              "      <td>0.98869</td>\n",
              "      <td>3.34</td>\n",
              "      <td>0.38</td>\n",
              "      <td>12.8</td>\n",
              "      <td>7</td>\n",
              "    </tr>\n",
              "    <tr>\n",
              "      <th>4897</th>\n",
              "      <td>6.0</td>\n",
              "      <td>0.21</td>\n",
              "      <td>0.38</td>\n",
              "      <td>0.8</td>\n",
              "      <td>0.020</td>\n",
              "      <td>22.0</td>\n",
              "      <td>98.0</td>\n",
              "      <td>0.98941</td>\n",
              "      <td>3.26</td>\n",
              "      <td>0.32</td>\n",
              "      <td>11.8</td>\n",
              "      <td>6</td>\n",
              "    </tr>\n",
              "  </tbody>\n",
              "</table>\n",
              "<p>4898 rows × 12 columns</p>\n",
              "</div>\n",
              "      <button class=\"colab-df-convert\" onclick=\"convertToInteractive('df-7e0f5e35-5c67-4a20-9ad0-0301efe03239')\"\n",
              "              title=\"Convert this dataframe to an interactive table.\"\n",
              "              style=\"display:none;\">\n",
              "        \n",
              "  <svg xmlns=\"http://www.w3.org/2000/svg\" height=\"24px\"viewBox=\"0 0 24 24\"\n",
              "       width=\"24px\">\n",
              "    <path d=\"M0 0h24v24H0V0z\" fill=\"none\"/>\n",
              "    <path d=\"M18.56 5.44l.94 2.06.94-2.06 2.06-.94-2.06-.94-.94-2.06-.94 2.06-2.06.94zm-11 1L8.5 8.5l.94-2.06 2.06-.94-2.06-.94L8.5 2.5l-.94 2.06-2.06.94zm10 10l.94 2.06.94-2.06 2.06-.94-2.06-.94-.94-2.06-.94 2.06-2.06.94z\"/><path d=\"M17.41 7.96l-1.37-1.37c-.4-.4-.92-.59-1.43-.59-.52 0-1.04.2-1.43.59L10.3 9.45l-7.72 7.72c-.78.78-.78 2.05 0 2.83L4 21.41c.39.39.9.59 1.41.59.51 0 1.02-.2 1.41-.59l7.78-7.78 2.81-2.81c.8-.78.8-2.07 0-2.86zM5.41 20L4 18.59l7.72-7.72 1.47 1.35L5.41 20z\"/>\n",
              "  </svg>\n",
              "      </button>\n",
              "      \n",
              "  <style>\n",
              "    .colab-df-container {\n",
              "      display:flex;\n",
              "      flex-wrap:wrap;\n",
              "      gap: 12px;\n",
              "    }\n",
              "\n",
              "    .colab-df-convert {\n",
              "      background-color: #E8F0FE;\n",
              "      border: none;\n",
              "      border-radius: 50%;\n",
              "      cursor: pointer;\n",
              "      display: none;\n",
              "      fill: #1967D2;\n",
              "      height: 32px;\n",
              "      padding: 0 0 0 0;\n",
              "      width: 32px;\n",
              "    }\n",
              "\n",
              "    .colab-df-convert:hover {\n",
              "      background-color: #E2EBFA;\n",
              "      box-shadow: 0px 1px 2px rgba(60, 64, 67, 0.3), 0px 1px 3px 1px rgba(60, 64, 67, 0.15);\n",
              "      fill: #174EA6;\n",
              "    }\n",
              "\n",
              "    [theme=dark] .colab-df-convert {\n",
              "      background-color: #3B4455;\n",
              "      fill: #D2E3FC;\n",
              "    }\n",
              "\n",
              "    [theme=dark] .colab-df-convert:hover {\n",
              "      background-color: #434B5C;\n",
              "      box-shadow: 0px 1px 3px 1px rgba(0, 0, 0, 0.15);\n",
              "      filter: drop-shadow(0px 1px 2px rgba(0, 0, 0, 0.3));\n",
              "      fill: #FFFFFF;\n",
              "    }\n",
              "  </style>\n",
              "\n",
              "      <script>\n",
              "        const buttonEl =\n",
              "          document.querySelector('#df-7e0f5e35-5c67-4a20-9ad0-0301efe03239 button.colab-df-convert');\n",
              "        buttonEl.style.display =\n",
              "          google.colab.kernel.accessAllowed ? 'block' : 'none';\n",
              "\n",
              "        async function convertToInteractive(key) {\n",
              "          const element = document.querySelector('#df-7e0f5e35-5c67-4a20-9ad0-0301efe03239');\n",
              "          const dataTable =\n",
              "            await google.colab.kernel.invokeFunction('convertToInteractive',\n",
              "                                                     [key], {});\n",
              "          if (!dataTable) return;\n",
              "\n",
              "          const docLinkHtml = 'Like what you see? Visit the ' +\n",
              "            '<a target=\"_blank\" href=https://colab.research.google.com/notebooks/data_table.ipynb>data table notebook</a>'\n",
              "            + ' to learn more about interactive tables.';\n",
              "          element.innerHTML = '';\n",
              "          dataTable['output_type'] = 'display_data';\n",
              "          await google.colab.output.renderOutput(dataTable, element);\n",
              "          const docLink = document.createElement('div');\n",
              "          docLink.innerHTML = docLinkHtml;\n",
              "          element.appendChild(docLink);\n",
              "        }\n",
              "      </script>\n",
              "    </div>\n",
              "  </div>\n",
              "  "
            ]
          },
          "metadata": {},
          "execution_count": 5
        }
      ]
    },
    {
      "cell_type": "code",
      "source": [
        "base_wine.head()"
      ],
      "metadata": {
        "colab": {
          "base_uri": "https://localhost:8080/",
          "height": 250
        },
        "id": "hK3LkIZgN2TA",
        "outputId": "e3d7ac00-8b48-4cc6-f339-90964e9437d4"
      },
      "execution_count": 6,
      "outputs": [
        {
          "output_type": "execute_result",
          "data": {
            "text/plain": [
              "   fixed acidity  volatile acidity  citric acid  residual sugar  chlorides  \\\n",
              "0            7.0              0.27         0.36            20.7      0.045   \n",
              "1            6.3              0.30         0.34             1.6      0.049   \n",
              "2            8.1              0.28         0.40             6.9      0.050   \n",
              "3            7.2              0.23         0.32             8.5      0.058   \n",
              "4            7.2              0.23         0.32             8.5      0.058   \n",
              "\n",
              "   free sulfur dioxide  total sulfur dioxide  density    pH  sulphates  \\\n",
              "0                 45.0                 170.0   1.0010  3.00       0.45   \n",
              "1                 14.0                 132.0   0.9940  3.30       0.49   \n",
              "2                 30.0                  97.0   0.9951  3.26       0.44   \n",
              "3                 47.0                 186.0   0.9956  3.19       0.40   \n",
              "4                 47.0                 186.0   0.9956  3.19       0.40   \n",
              "\n",
              "   alcohol  quality  \n",
              "0      8.8        6  \n",
              "1      9.5        6  \n",
              "2     10.1        6  \n",
              "3      9.9        6  \n",
              "4      9.9        6  "
            ],
            "text/html": [
              "\n",
              "  <div id=\"df-bf022576-b9e9-414c-ae8b-e7f5e2099ada\">\n",
              "    <div class=\"colab-df-container\">\n",
              "      <div>\n",
              "<style scoped>\n",
              "    .dataframe tbody tr th:only-of-type {\n",
              "        vertical-align: middle;\n",
              "    }\n",
              "\n",
              "    .dataframe tbody tr th {\n",
              "        vertical-align: top;\n",
              "    }\n",
              "\n",
              "    .dataframe thead th {\n",
              "        text-align: right;\n",
              "    }\n",
              "</style>\n",
              "<table border=\"1\" class=\"dataframe\">\n",
              "  <thead>\n",
              "    <tr style=\"text-align: right;\">\n",
              "      <th></th>\n",
              "      <th>fixed acidity</th>\n",
              "      <th>volatile acidity</th>\n",
              "      <th>citric acid</th>\n",
              "      <th>residual sugar</th>\n",
              "      <th>chlorides</th>\n",
              "      <th>free sulfur dioxide</th>\n",
              "      <th>total sulfur dioxide</th>\n",
              "      <th>density</th>\n",
              "      <th>pH</th>\n",
              "      <th>sulphates</th>\n",
              "      <th>alcohol</th>\n",
              "      <th>quality</th>\n",
              "    </tr>\n",
              "  </thead>\n",
              "  <tbody>\n",
              "    <tr>\n",
              "      <th>0</th>\n",
              "      <td>7.0</td>\n",
              "      <td>0.27</td>\n",
              "      <td>0.36</td>\n",
              "      <td>20.7</td>\n",
              "      <td>0.045</td>\n",
              "      <td>45.0</td>\n",
              "      <td>170.0</td>\n",
              "      <td>1.0010</td>\n",
              "      <td>3.00</td>\n",
              "      <td>0.45</td>\n",
              "      <td>8.8</td>\n",
              "      <td>6</td>\n",
              "    </tr>\n",
              "    <tr>\n",
              "      <th>1</th>\n",
              "      <td>6.3</td>\n",
              "      <td>0.30</td>\n",
              "      <td>0.34</td>\n",
              "      <td>1.6</td>\n",
              "      <td>0.049</td>\n",
              "      <td>14.0</td>\n",
              "      <td>132.0</td>\n",
              "      <td>0.9940</td>\n",
              "      <td>3.30</td>\n",
              "      <td>0.49</td>\n",
              "      <td>9.5</td>\n",
              "      <td>6</td>\n",
              "    </tr>\n",
              "    <tr>\n",
              "      <th>2</th>\n",
              "      <td>8.1</td>\n",
              "      <td>0.28</td>\n",
              "      <td>0.40</td>\n",
              "      <td>6.9</td>\n",
              "      <td>0.050</td>\n",
              "      <td>30.0</td>\n",
              "      <td>97.0</td>\n",
              "      <td>0.9951</td>\n",
              "      <td>3.26</td>\n",
              "      <td>0.44</td>\n",
              "      <td>10.1</td>\n",
              "      <td>6</td>\n",
              "    </tr>\n",
              "    <tr>\n",
              "      <th>3</th>\n",
              "      <td>7.2</td>\n",
              "      <td>0.23</td>\n",
              "      <td>0.32</td>\n",
              "      <td>8.5</td>\n",
              "      <td>0.058</td>\n",
              "      <td>47.0</td>\n",
              "      <td>186.0</td>\n",
              "      <td>0.9956</td>\n",
              "      <td>3.19</td>\n",
              "      <td>0.40</td>\n",
              "      <td>9.9</td>\n",
              "      <td>6</td>\n",
              "    </tr>\n",
              "    <tr>\n",
              "      <th>4</th>\n",
              "      <td>7.2</td>\n",
              "      <td>0.23</td>\n",
              "      <td>0.32</td>\n",
              "      <td>8.5</td>\n",
              "      <td>0.058</td>\n",
              "      <td>47.0</td>\n",
              "      <td>186.0</td>\n",
              "      <td>0.9956</td>\n",
              "      <td>3.19</td>\n",
              "      <td>0.40</td>\n",
              "      <td>9.9</td>\n",
              "      <td>6</td>\n",
              "    </tr>\n",
              "  </tbody>\n",
              "</table>\n",
              "</div>\n",
              "      <button class=\"colab-df-convert\" onclick=\"convertToInteractive('df-bf022576-b9e9-414c-ae8b-e7f5e2099ada')\"\n",
              "              title=\"Convert this dataframe to an interactive table.\"\n",
              "              style=\"display:none;\">\n",
              "        \n",
              "  <svg xmlns=\"http://www.w3.org/2000/svg\" height=\"24px\"viewBox=\"0 0 24 24\"\n",
              "       width=\"24px\">\n",
              "    <path d=\"M0 0h24v24H0V0z\" fill=\"none\"/>\n",
              "    <path d=\"M18.56 5.44l.94 2.06.94-2.06 2.06-.94-2.06-.94-.94-2.06-.94 2.06-2.06.94zm-11 1L8.5 8.5l.94-2.06 2.06-.94-2.06-.94L8.5 2.5l-.94 2.06-2.06.94zm10 10l.94 2.06.94-2.06 2.06-.94-2.06-.94-.94-2.06-.94 2.06-2.06.94z\"/><path d=\"M17.41 7.96l-1.37-1.37c-.4-.4-.92-.59-1.43-.59-.52 0-1.04.2-1.43.59L10.3 9.45l-7.72 7.72c-.78.78-.78 2.05 0 2.83L4 21.41c.39.39.9.59 1.41.59.51 0 1.02-.2 1.41-.59l7.78-7.78 2.81-2.81c.8-.78.8-2.07 0-2.86zM5.41 20L4 18.59l7.72-7.72 1.47 1.35L5.41 20z\"/>\n",
              "  </svg>\n",
              "      </button>\n",
              "      \n",
              "  <style>\n",
              "    .colab-df-container {\n",
              "      display:flex;\n",
              "      flex-wrap:wrap;\n",
              "      gap: 12px;\n",
              "    }\n",
              "\n",
              "    .colab-df-convert {\n",
              "      background-color: #E8F0FE;\n",
              "      border: none;\n",
              "      border-radius: 50%;\n",
              "      cursor: pointer;\n",
              "      display: none;\n",
              "      fill: #1967D2;\n",
              "      height: 32px;\n",
              "      padding: 0 0 0 0;\n",
              "      width: 32px;\n",
              "    }\n",
              "\n",
              "    .colab-df-convert:hover {\n",
              "      background-color: #E2EBFA;\n",
              "      box-shadow: 0px 1px 2px rgba(60, 64, 67, 0.3), 0px 1px 3px 1px rgba(60, 64, 67, 0.15);\n",
              "      fill: #174EA6;\n",
              "    }\n",
              "\n",
              "    [theme=dark] .colab-df-convert {\n",
              "      background-color: #3B4455;\n",
              "      fill: #D2E3FC;\n",
              "    }\n",
              "\n",
              "    [theme=dark] .colab-df-convert:hover {\n",
              "      background-color: #434B5C;\n",
              "      box-shadow: 0px 1px 3px 1px rgba(0, 0, 0, 0.15);\n",
              "      filter: drop-shadow(0px 1px 2px rgba(0, 0, 0, 0.3));\n",
              "      fill: #FFFFFF;\n",
              "    }\n",
              "  </style>\n",
              "\n",
              "      <script>\n",
              "        const buttonEl =\n",
              "          document.querySelector('#df-bf022576-b9e9-414c-ae8b-e7f5e2099ada button.colab-df-convert');\n",
              "        buttonEl.style.display =\n",
              "          google.colab.kernel.accessAllowed ? 'block' : 'none';\n",
              "\n",
              "        async function convertToInteractive(key) {\n",
              "          const element = document.querySelector('#df-bf022576-b9e9-414c-ae8b-e7f5e2099ada');\n",
              "          const dataTable =\n",
              "            await google.colab.kernel.invokeFunction('convertToInteractive',\n",
              "                                                     [key], {});\n",
              "          if (!dataTable) return;\n",
              "\n",
              "          const docLinkHtml = 'Like what you see? Visit the ' +\n",
              "            '<a target=\"_blank\" href=https://colab.research.google.com/notebooks/data_table.ipynb>data table notebook</a>'\n",
              "            + ' to learn more about interactive tables.';\n",
              "          element.innerHTML = '';\n",
              "          dataTable['output_type'] = 'display_data';\n",
              "          await google.colab.output.renderOutput(dataTable, element);\n",
              "          const docLink = document.createElement('div');\n",
              "          docLink.innerHTML = docLinkHtml;\n",
              "          element.appendChild(docLink);\n",
              "        }\n",
              "      </script>\n",
              "    </div>\n",
              "  </div>\n",
              "  "
            ]
          },
          "metadata": {},
          "execution_count": 6
        }
      ]
    },
    {
      "cell_type": "code",
      "source": [
        "base_wine.describe()"
      ],
      "metadata": {
        "colab": {
          "base_uri": "https://localhost:8080/",
          "height": 362
        },
        "id": "HrEDSee0PE0N",
        "outputId": "90fc42a7-5200-4efe-84f5-97d0d7a781ad"
      },
      "execution_count": 7,
      "outputs": [
        {
          "output_type": "execute_result",
          "data": {
            "text/plain": [
              "       fixed acidity  volatile acidity  citric acid  residual sugar  \\\n",
              "count    4898.000000       4898.000000  4898.000000     4898.000000   \n",
              "mean        6.854788          0.278241     0.334192        6.391415   \n",
              "std         0.843868          0.100795     0.121020        5.072058   \n",
              "min         3.800000          0.080000     0.000000        0.600000   \n",
              "25%         6.300000          0.210000     0.270000        1.700000   \n",
              "50%         6.800000          0.260000     0.320000        5.200000   \n",
              "75%         7.300000          0.320000     0.390000        9.900000   \n",
              "max        14.200000          1.100000     1.660000       65.800000   \n",
              "\n",
              "         chlorides  free sulfur dioxide  total sulfur dioxide      density  \\\n",
              "count  4898.000000          4898.000000           4898.000000  4898.000000   \n",
              "mean      0.045772            35.308085            138.360657     0.994027   \n",
              "std       0.021848            17.007137             42.498065     0.002991   \n",
              "min       0.009000             2.000000              9.000000     0.987110   \n",
              "25%       0.036000            23.000000            108.000000     0.991723   \n",
              "50%       0.043000            34.000000            134.000000     0.993740   \n",
              "75%       0.050000            46.000000            167.000000     0.996100   \n",
              "max       0.346000           289.000000            440.000000     1.038980   \n",
              "\n",
              "                pH    sulphates      alcohol      quality  \n",
              "count  4898.000000  4898.000000  4898.000000  4898.000000  \n",
              "mean      3.188267     0.489847    10.514267     5.877909  \n",
              "std       0.151001     0.114126     1.230621     0.885639  \n",
              "min       2.720000     0.220000     8.000000     3.000000  \n",
              "25%       3.090000     0.410000     9.500000     5.000000  \n",
              "50%       3.180000     0.470000    10.400000     6.000000  \n",
              "75%       3.280000     0.550000    11.400000     6.000000  \n",
              "max       3.820000     1.080000    14.200000     9.000000  "
            ],
            "text/html": [
              "\n",
              "  <div id=\"df-312e7aad-3044-4424-8e2b-5314d8b0d552\">\n",
              "    <div class=\"colab-df-container\">\n",
              "      <div>\n",
              "<style scoped>\n",
              "    .dataframe tbody tr th:only-of-type {\n",
              "        vertical-align: middle;\n",
              "    }\n",
              "\n",
              "    .dataframe tbody tr th {\n",
              "        vertical-align: top;\n",
              "    }\n",
              "\n",
              "    .dataframe thead th {\n",
              "        text-align: right;\n",
              "    }\n",
              "</style>\n",
              "<table border=\"1\" class=\"dataframe\">\n",
              "  <thead>\n",
              "    <tr style=\"text-align: right;\">\n",
              "      <th></th>\n",
              "      <th>fixed acidity</th>\n",
              "      <th>volatile acidity</th>\n",
              "      <th>citric acid</th>\n",
              "      <th>residual sugar</th>\n",
              "      <th>chlorides</th>\n",
              "      <th>free sulfur dioxide</th>\n",
              "      <th>total sulfur dioxide</th>\n",
              "      <th>density</th>\n",
              "      <th>pH</th>\n",
              "      <th>sulphates</th>\n",
              "      <th>alcohol</th>\n",
              "      <th>quality</th>\n",
              "    </tr>\n",
              "  </thead>\n",
              "  <tbody>\n",
              "    <tr>\n",
              "      <th>count</th>\n",
              "      <td>4898.000000</td>\n",
              "      <td>4898.000000</td>\n",
              "      <td>4898.000000</td>\n",
              "      <td>4898.000000</td>\n",
              "      <td>4898.000000</td>\n",
              "      <td>4898.000000</td>\n",
              "      <td>4898.000000</td>\n",
              "      <td>4898.000000</td>\n",
              "      <td>4898.000000</td>\n",
              "      <td>4898.000000</td>\n",
              "      <td>4898.000000</td>\n",
              "      <td>4898.000000</td>\n",
              "    </tr>\n",
              "    <tr>\n",
              "      <th>mean</th>\n",
              "      <td>6.854788</td>\n",
              "      <td>0.278241</td>\n",
              "      <td>0.334192</td>\n",
              "      <td>6.391415</td>\n",
              "      <td>0.045772</td>\n",
              "      <td>35.308085</td>\n",
              "      <td>138.360657</td>\n",
              "      <td>0.994027</td>\n",
              "      <td>3.188267</td>\n",
              "      <td>0.489847</td>\n",
              "      <td>10.514267</td>\n",
              "      <td>5.877909</td>\n",
              "    </tr>\n",
              "    <tr>\n",
              "      <th>std</th>\n",
              "      <td>0.843868</td>\n",
              "      <td>0.100795</td>\n",
              "      <td>0.121020</td>\n",
              "      <td>5.072058</td>\n",
              "      <td>0.021848</td>\n",
              "      <td>17.007137</td>\n",
              "      <td>42.498065</td>\n",
              "      <td>0.002991</td>\n",
              "      <td>0.151001</td>\n",
              "      <td>0.114126</td>\n",
              "      <td>1.230621</td>\n",
              "      <td>0.885639</td>\n",
              "    </tr>\n",
              "    <tr>\n",
              "      <th>min</th>\n",
              "      <td>3.800000</td>\n",
              "      <td>0.080000</td>\n",
              "      <td>0.000000</td>\n",
              "      <td>0.600000</td>\n",
              "      <td>0.009000</td>\n",
              "      <td>2.000000</td>\n",
              "      <td>9.000000</td>\n",
              "      <td>0.987110</td>\n",
              "      <td>2.720000</td>\n",
              "      <td>0.220000</td>\n",
              "      <td>8.000000</td>\n",
              "      <td>3.000000</td>\n",
              "    </tr>\n",
              "    <tr>\n",
              "      <th>25%</th>\n",
              "      <td>6.300000</td>\n",
              "      <td>0.210000</td>\n",
              "      <td>0.270000</td>\n",
              "      <td>1.700000</td>\n",
              "      <td>0.036000</td>\n",
              "      <td>23.000000</td>\n",
              "      <td>108.000000</td>\n",
              "      <td>0.991723</td>\n",
              "      <td>3.090000</td>\n",
              "      <td>0.410000</td>\n",
              "      <td>9.500000</td>\n",
              "      <td>5.000000</td>\n",
              "    </tr>\n",
              "    <tr>\n",
              "      <th>50%</th>\n",
              "      <td>6.800000</td>\n",
              "      <td>0.260000</td>\n",
              "      <td>0.320000</td>\n",
              "      <td>5.200000</td>\n",
              "      <td>0.043000</td>\n",
              "      <td>34.000000</td>\n",
              "      <td>134.000000</td>\n",
              "      <td>0.993740</td>\n",
              "      <td>3.180000</td>\n",
              "      <td>0.470000</td>\n",
              "      <td>10.400000</td>\n",
              "      <td>6.000000</td>\n",
              "    </tr>\n",
              "    <tr>\n",
              "      <th>75%</th>\n",
              "      <td>7.300000</td>\n",
              "      <td>0.320000</td>\n",
              "      <td>0.390000</td>\n",
              "      <td>9.900000</td>\n",
              "      <td>0.050000</td>\n",
              "      <td>46.000000</td>\n",
              "      <td>167.000000</td>\n",
              "      <td>0.996100</td>\n",
              "      <td>3.280000</td>\n",
              "      <td>0.550000</td>\n",
              "      <td>11.400000</td>\n",
              "      <td>6.000000</td>\n",
              "    </tr>\n",
              "    <tr>\n",
              "      <th>max</th>\n",
              "      <td>14.200000</td>\n",
              "      <td>1.100000</td>\n",
              "      <td>1.660000</td>\n",
              "      <td>65.800000</td>\n",
              "      <td>0.346000</td>\n",
              "      <td>289.000000</td>\n",
              "      <td>440.000000</td>\n",
              "      <td>1.038980</td>\n",
              "      <td>3.820000</td>\n",
              "      <td>1.080000</td>\n",
              "      <td>14.200000</td>\n",
              "      <td>9.000000</td>\n",
              "    </tr>\n",
              "  </tbody>\n",
              "</table>\n",
              "</div>\n",
              "      <button class=\"colab-df-convert\" onclick=\"convertToInteractive('df-312e7aad-3044-4424-8e2b-5314d8b0d552')\"\n",
              "              title=\"Convert this dataframe to an interactive table.\"\n",
              "              style=\"display:none;\">\n",
              "        \n",
              "  <svg xmlns=\"http://www.w3.org/2000/svg\" height=\"24px\"viewBox=\"0 0 24 24\"\n",
              "       width=\"24px\">\n",
              "    <path d=\"M0 0h24v24H0V0z\" fill=\"none\"/>\n",
              "    <path d=\"M18.56 5.44l.94 2.06.94-2.06 2.06-.94-2.06-.94-.94-2.06-.94 2.06-2.06.94zm-11 1L8.5 8.5l.94-2.06 2.06-.94-2.06-.94L8.5 2.5l-.94 2.06-2.06.94zm10 10l.94 2.06.94-2.06 2.06-.94-2.06-.94-.94-2.06-.94 2.06-2.06.94z\"/><path d=\"M17.41 7.96l-1.37-1.37c-.4-.4-.92-.59-1.43-.59-.52 0-1.04.2-1.43.59L10.3 9.45l-7.72 7.72c-.78.78-.78 2.05 0 2.83L4 21.41c.39.39.9.59 1.41.59.51 0 1.02-.2 1.41-.59l7.78-7.78 2.81-2.81c.8-.78.8-2.07 0-2.86zM5.41 20L4 18.59l7.72-7.72 1.47 1.35L5.41 20z\"/>\n",
              "  </svg>\n",
              "      </button>\n",
              "      \n",
              "  <style>\n",
              "    .colab-df-container {\n",
              "      display:flex;\n",
              "      flex-wrap:wrap;\n",
              "      gap: 12px;\n",
              "    }\n",
              "\n",
              "    .colab-df-convert {\n",
              "      background-color: #E8F0FE;\n",
              "      border: none;\n",
              "      border-radius: 50%;\n",
              "      cursor: pointer;\n",
              "      display: none;\n",
              "      fill: #1967D2;\n",
              "      height: 32px;\n",
              "      padding: 0 0 0 0;\n",
              "      width: 32px;\n",
              "    }\n",
              "\n",
              "    .colab-df-convert:hover {\n",
              "      background-color: #E2EBFA;\n",
              "      box-shadow: 0px 1px 2px rgba(60, 64, 67, 0.3), 0px 1px 3px 1px rgba(60, 64, 67, 0.15);\n",
              "      fill: #174EA6;\n",
              "    }\n",
              "\n",
              "    [theme=dark] .colab-df-convert {\n",
              "      background-color: #3B4455;\n",
              "      fill: #D2E3FC;\n",
              "    }\n",
              "\n",
              "    [theme=dark] .colab-df-convert:hover {\n",
              "      background-color: #434B5C;\n",
              "      box-shadow: 0px 1px 3px 1px rgba(0, 0, 0, 0.15);\n",
              "      filter: drop-shadow(0px 1px 2px rgba(0, 0, 0, 0.3));\n",
              "      fill: #FFFFFF;\n",
              "    }\n",
              "  </style>\n",
              "\n",
              "      <script>\n",
              "        const buttonEl =\n",
              "          document.querySelector('#df-312e7aad-3044-4424-8e2b-5314d8b0d552 button.colab-df-convert');\n",
              "        buttonEl.style.display =\n",
              "          google.colab.kernel.accessAllowed ? 'block' : 'none';\n",
              "\n",
              "        async function convertToInteractive(key) {\n",
              "          const element = document.querySelector('#df-312e7aad-3044-4424-8e2b-5314d8b0d552');\n",
              "          const dataTable =\n",
              "            await google.colab.kernel.invokeFunction('convertToInteractive',\n",
              "                                                     [key], {});\n",
              "          if (!dataTable) return;\n",
              "\n",
              "          const docLinkHtml = 'Like what you see? Visit the ' +\n",
              "            '<a target=\"_blank\" href=https://colab.research.google.com/notebooks/data_table.ipynb>data table notebook</a>'\n",
              "            + ' to learn more about interactive tables.';\n",
              "          element.innerHTML = '';\n",
              "          dataTable['output_type'] = 'display_data';\n",
              "          await google.colab.output.renderOutput(dataTable, element);\n",
              "          const docLink = document.createElement('div');\n",
              "          docLink.innerHTML = docLinkHtml;\n",
              "          element.appendChild(docLink);\n",
              "        }\n",
              "      </script>\n",
              "    </div>\n",
              "  </div>\n",
              "  "
            ]
          },
          "metadata": {},
          "execution_count": 7
        }
      ]
    },
    {
      "cell_type": "code",
      "source": [
        "base_wine.mean()"
      ],
      "metadata": {
        "colab": {
          "base_uri": "https://localhost:8080/"
        },
        "id": "rZ7nNQFPPKbj",
        "outputId": "2e229ad5-4a04-4097-9a2b-23ac88f3fb84"
      },
      "execution_count": 8,
      "outputs": [
        {
          "output_type": "execute_result",
          "data": {
            "text/plain": [
              "fixed acidity             6.854788\n",
              "volatile acidity          0.278241\n",
              "citric acid               0.334192\n",
              "residual sugar            6.391415\n",
              "chlorides                 0.045772\n",
              "free sulfur dioxide      35.308085\n",
              "total sulfur dioxide    138.360657\n",
              "density                   0.994027\n",
              "pH                        3.188267\n",
              "sulphates                 0.489847\n",
              "alcohol                  10.514267\n",
              "quality                   5.877909\n",
              "dtype: float64"
            ]
          },
          "metadata": {},
          "execution_count": 8
        }
      ]
    },
    {
      "cell_type": "code",
      "source": [
        "base_wine.isnull().sum()"
      ],
      "metadata": {
        "colab": {
          "base_uri": "https://localhost:8080/"
        },
        "id": "Wir0R5GwPkgZ",
        "outputId": "e9bb34a7-7b74-4679-f0bb-2664286af651"
      },
      "execution_count": 9,
      "outputs": [
        {
          "output_type": "execute_result",
          "data": {
            "text/plain": [
              "fixed acidity           0\n",
              "volatile acidity        0\n",
              "citric acid             0\n",
              "residual sugar          0\n",
              "chlorides               0\n",
              "free sulfur dioxide     0\n",
              "total sulfur dioxide    0\n",
              "density                 0\n",
              "pH                      0\n",
              "sulphates               0\n",
              "alcohol                 0\n",
              "quality                 0\n",
              "dtype: int64"
            ]
          },
          "metadata": {},
          "execution_count": 9
        }
      ]
    },
    {
      "cell_type": "code",
      "source": [
        "np.unique(base_wine['quality'], return_counts = True)"
      ],
      "metadata": {
        "colab": {
          "base_uri": "https://localhost:8080/"
        },
        "id": "3F9GDDkPPrXx",
        "outputId": "c818a2b6-876b-46f9-a07e-56840e57baf0"
      },
      "execution_count": 10,
      "outputs": [
        {
          "output_type": "execute_result",
          "data": {
            "text/plain": [
              "(array([3, 4, 5, 6, 7, 8, 9]),\n",
              " array([  20,  163, 1457, 2198,  880,  175,    5]))"
            ]
          },
          "metadata": {},
          "execution_count": 10
        }
      ]
    },
    {
      "cell_type": "markdown",
      "source": [
        "# Gráficos"
      ],
      "metadata": {
        "id": "vTObKH6gRX3L"
      }
    },
    {
      "cell_type": "code",
      "source": [
        "sns.countplot(x = base_wine['quality']);"
      ],
      "metadata": {
        "colab": {
          "base_uri": "https://localhost:8080/",
          "height": 361
        },
        "id": "2nQWdi39RHuc",
        "outputId": "41f2562b-fff9-4045-baa5-5c4a0b7264d4"
      },
      "execution_count": 11,
      "outputs": [
        {
          "output_type": "display_data",
          "data": {
            "text/plain": [
              "<Figure size 576x396 with 1 Axes>"
            ],
            "image/png": "[encoded data removed]"
          },
          "metadata": {}
        }
      ]
    },
    {
      "cell_type": "code",
      "source": [
        "plt.hist(x = base_wine['fixed acidity']);"
      ],
      "metadata": {
        "colab": {
          "base_uri": "https://localhost:8080/",
          "height": 348
        },
        "id": "xhxtKFtWRjZG",
        "outputId": "b4b70e6e-fd81-43ab-b459-a7b97a2cda52"
      },
      "execution_count": 12,
      "outputs": [
        {
          "output_type": "display_data",
          "data": {
            "text/plain": [
              "<Figure size 576x396 with 1 Axes>"
            ],
            "image/png": "[encoded data removed]"
          },
          "metadata": {}
        }
      ]
    },
    {
      "cell_type": "markdown",
      "source": [
        "# Divisão de previsores e classes"
      ],
      "metadata": {
        "id": "3mAs4T1nTvxC"
      }
    },
    {
      "cell_type": "code",
      "source": [
        "base_wine"
      ],
      "metadata": {
        "colab": {
          "base_uri": "https://localhost:8080/",
          "height": 485
        },
        "id": "uqhRc2LQTEx0",
        "outputId": "00aa6fe7-44b6-4f98-d9b6-96a51d30db1d"
      },
      "execution_count": 13,
      "outputs": [
        {
          "output_type": "execute_result",
          "data": {
            "text/plain": [
              "      fixed acidity  volatile acidity  citric acid  residual sugar  chlorides  \\\n",
              "0               7.0              0.27         0.36            20.7      0.045   \n",
              "1               6.3              0.30         0.34             1.6      0.049   \n",
              "2               8.1              0.28         0.40             6.9      0.050   \n",
              "3               7.2              0.23         0.32             8.5      0.058   \n",
              "4               7.2              0.23         0.32             8.5      0.058   \n",
              "...             ...               ...          ...             ...        ...   \n",
              "4893            6.2              0.21         0.29             1.6      0.039   \n",
              "4894            6.6              0.32         0.36             8.0      0.047   \n",
              "4895            6.5              0.24         0.19             1.2      0.041   \n",
              "4896            5.5              0.29         0.30             1.1      0.022   \n",
              "4897            6.0              0.21         0.38             0.8      0.020   \n",
              "\n",
              "      free sulfur dioxide  total sulfur dioxide  density    pH  sulphates  \\\n",
              "0                    45.0                 170.0  1.00100  3.00       0.45   \n",
              "1                    14.0                 132.0  0.99400  3.30       0.49   \n",
              "2                    30.0                  97.0  0.99510  3.26       0.44   \n",
              "3                    47.0                 186.0  0.99560  3.19       0.40   \n",
              "4                    47.0                 186.0  0.99560  3.19       0.40   \n",
              "...                   ...                   ...      ...   ...        ...   \n",
              "4893                 24.0                  92.0  0.99114  3.27       0.50   \n",
              "4894                 57.0                 168.0  0.99490  3.15       0.46   \n",
              "4895                 30.0                 111.0  0.99254  2.99       0.46   \n",
              "4896                 20.0                 110.0  0.98869  3.34       0.38   \n",
              "4897                 22.0                  98.0  0.98941  3.26       0.32   \n",
              "\n",
              "      alcohol  quality  \n",
              "0         8.8        6  \n",
              "1         9.5        6  \n",
              "2        10.1        6  \n",
              "3         9.9        6  \n",
              "4         9.9        6  \n",
              "...       ...      ...  \n",
              "4893     11.2        6  \n",
              "4894      9.6        5  \n",
              "4895      9.4        6  \n",
              "4896     12.8        7  \n",
              "4897     11.8        6  \n",
              "\n",
              "[4898 rows x 12 columns]"
            ],
            "text/html": [
              "\n",
              "  <div id=\"df-475791c9-20ee-4d57-a6ec-8778820acb07\">\n",
              "    <div class=\"colab-df-container\">\n",
              "      <div>\n",
              "<style scoped>\n",
              "    .dataframe tbody tr th:only-of-type {\n",
              "        vertical-align: middle;\n",
              "    }\n",
              "\n",
              "    .dataframe tbody tr th {\n",
              "        vertical-align: top;\n",
              "    }\n",
              "\n",
              "    .dataframe thead th {\n",
              "        text-align: right;\n",
              "    }\n",
              "</style>\n",
              "<table border=\"1\" class=\"dataframe\">\n",
              "  <thead>\n",
              "    <tr style=\"text-align: right;\">\n",
              "      <th></th>\n",
              "      <th>fixed acidity</th>\n",
              "      <th>volatile acidity</th>\n",
              "      <th>citric acid</th>\n",
              "      <th>residual sugar</th>\n",
              "      <th>chlorides</th>\n",
              "      <th>free sulfur dioxide</th>\n",
              "      <th>total sulfur dioxide</th>\n",
              "      <th>density</th>\n",
              "      <th>pH</th>\n",
              "      <th>sulphates</th>\n",
              "      <th>alcohol</th>\n",
              "      <th>quality</th>\n",
              "    </tr>\n",
              "  </thead>\n",
              "  <tbody>\n",
              "    <tr>\n",
              "      <th>0</th>\n",
              "      <td>7.0</td>\n",
              "      <td>0.27</td>\n",
              "      <td>0.36</td>\n",
              "      <td>20.7</td>\n",
              "      <td>0.045</td>\n",
              "      <td>45.0</td>\n",
              "      <td>170.0</td>\n",
              "      <td>1.00100</td>\n",
              "      <td>3.00</td>\n",
              "      <td>0.45</td>\n",
              "      <td>8.8</td>\n",
              "      <td>6</td>\n",
              "    </tr>\n",
              "    <tr>\n",
              "      <th>1</th>\n",
              "      <td>6.3</td>\n",
              "      <td>0.30</td>\n",
              "      <td>0.34</td>\n",
              "      <td>1.6</td>\n",
              "      <td>0.049</td>\n",
              "      <td>14.0</td>\n",
              "      <td>132.0</td>\n",
              "      <td>0.99400</td>\n",
              "      <td>3.30</td>\n",
              "      <td>0.49</td>\n",
              "      <td>9.5</td>\n",
              "      <td>6</td>\n",
              "    </tr>\n",
              "    <tr>\n",
              "      <th>2</th>\n",
              "      <td>8.1</td>\n",
              "      <td>0.28</td>\n",
              "      <td>0.40</td>\n",
              "      <td>6.9</td>\n",
              "      <td>0.050</td>\n",
              "      <td>30.0</td>\n",
              "      <td>97.0</td>\n",
              "      <td>0.99510</td>\n",
              "      <td>3.26</td>\n",
              "      <td>0.44</td>\n",
              "      <td>10.1</td>\n",
              "      <td>6</td>\n",
              "    </tr>\n",
              "    <tr>\n",
              "      <th>3</th>\n",
              "      <td>7.2</td>\n",
              "      <td>0.23</td>\n",
              "      <td>0.32</td>\n",
              "      <td>8.5</td>\n",
              "      <td>0.058</td>\n",
              "      <td>47.0</td>\n",
              "      <td>186.0</td>\n",
              "      <td>0.99560</td>\n",
              "      <td>3.19</td>\n",
              "      <td>0.40</td>\n",
              "      <td>9.9</td>\n",
              "      <td>6</td>\n",
              "    </tr>\n",
              "    <tr>\n",
              "      <th>4</th>\n",
              "      <td>7.2</td>\n",
              "      <td>0.23</td>\n",
              "      <td>0.32</td>\n",
              "      <td>8.5</td>\n",
              "      <td>0.058</td>\n",
              "      <td>47.0</td>\n",
              "      <td>186.0</td>\n",
              "      <td>0.99560</td>\n",
              "      <td>3.19</td>\n",
              "      <td>0.40</td>\n",
              "      <td>9.9</td>\n",
              "      <td>6</td>\n",
              "    </tr>\n",
              "    <tr>\n",
              "      <th>...</th>\n",
              "      <td>...</td>\n",
              "      <td>...</td>\n",
              "      <td>...</td>\n",
              "      <td>...</td>\n",
              "      <td>...</td>\n",
              "      <td>...</td>\n",
              "      <td>...</td>\n",
              "      <td>...</td>\n",
              "      <td>...</td>\n",
              "      <td>...</td>\n",
              "      <td>...</td>\n",
              "      <td>...</td>\n",
              "    </tr>\n",
              "    <tr>\n",
              "      <th>4893</th>\n",
              "      <td>6.2</td>\n",
              "      <td>0.21</td>\n",
              "      <td>0.29</td>\n",
              "      <td>1.6</td>\n",
              "      <td>0.039</td>\n",
              "      <td>24.0</td>\n",
              "      <td>92.0</td>\n",
              "      <td>0.99114</td>\n",
              "      <td>3.27</td>\n",
              "      <td>0.50</td>\n",
              "      <td>11.2</td>\n",
              "      <td>6</td>\n",
              "    </tr>\n",
              "    <tr>\n",
              "      <th>4894</th>\n",
              "      <td>6.6</td>\n",
              "      <td>0.32</td>\n",
              "      <td>0.36</td>\n",
              "      <td>8.0</td>\n",
              "      <td>0.047</td>\n",
              "      <td>57.0</td>\n",
              "      <td>168.0</td>\n",
              "      <td>0.99490</td>\n",
              "      <td>3.15</td>\n",
              "      <td>0.46</td>\n",
              "      <td>9.6</td>\n",
              "      <td>5</td>\n",
              "    </tr>\n",
              "    <tr>\n",
              "      <th>4895</th>\n",
              "      <td>6.5</td>\n",
              "      <td>0.24</td>\n",
              "      <td>0.19</td>\n",
              "      <td>1.2</td>\n",
              "      <td>0.041</td>\n",
              "      <td>30.0</td>\n",
              "      <td>111.0</td>\n",
              "      <td>0.99254</td>\n",
              "      <td>2.99</td>\n",
              "      <td>0.46</td>\n",
              "      <td>9.4</td>\n",
              "      <td>6</td>\n",
              "    </tr>\n",
              "    <tr>\n",
              "      <th>4896</th>\n",
              "      <td>5.5</td>\n",
              "      <td>0.29</td>\n",
              "      <td>0.30</td>\n",
              "      <td>1.1</td>\n",
              "      <td>0.022</td>\n",
              "      <td>20.0</td>\n",
              "      <td>110.0</td>\n",
              "      <td>0.98869</td>\n",
              "      <td>3.34</td>\n",
              "      <td>0.38</td>\n",
              "      <td>12.8</td>\n",
              "      <td>7</td>\n",
              "    </tr>\n",
              "    <tr>\n",
              "      <th>4897</th>\n",
              "      <td>6.0</td>\n",
              "      <td>0.21</td>\n",
              "      <td>0.38</td>\n",
              "      <td>0.8</td>\n",
              "      <td>0.020</td>\n",
              "      <td>22.0</td>\n",
              "      <td>98.0</td>\n",
              "      <td>0.98941</td>\n",
              "      <td>3.26</td>\n",
              "      <td>0.32</td>\n",
              "      <td>11.8</td>\n",
              "      <td>6</td>\n",
              "    </tr>\n",
              "  </tbody>\n",
              "</table>\n",
              "<p>4898 rows × 12 columns</p>\n",
              "</div>\n",
              "      <button class=\"colab-df-convert\" onclick=\"convertToInteractive('df-475791c9-20ee-4d57-a6ec-8778820acb07')\"\n",
              "              title=\"Convert this dataframe to an interactive table.\"\n",
              "              style=\"display:none;\">\n",
              "        \n",
              "  <svg xmlns=\"http://www.w3.org/2000/svg\" height=\"24px\"viewBox=\"0 0 24 24\"\n",
              "       width=\"24px\">\n",
              "    <path d=\"M0 0h24v24H0V0z\" fill=\"none\"/>\n",
              "    <path d=\"M18.56 5.44l.94 2.06.94-2.06 2.06-.94-2.06-.94-.94-2.06-.94 2.06-2.06.94zm-11 1L8.5 8.5l.94-2.06 2.06-.94-2.06-.94L8.5 2.5l-.94 2.06-2.06.94zm10 10l.94 2.06.94-2.06 2.06-.94-2.06-.94-.94-2.06-.94 2.06-2.06.94z\"/><path d=\"M17.41 7.96l-1.37-1.37c-.4-.4-.92-.59-1.43-.59-.52 0-1.04.2-1.43.59L10.3 9.45l-7.72 7.72c-.78.78-.78 2.05 0 2.83L4 21.41c.39.39.9.59 1.41.59.51 0 1.02-.2 1.41-.59l7.78-7.78 2.81-2.81c.8-.78.8-2.07 0-2.86zM5.41 20L4 18.59l7.72-7.72 1.47 1.35L5.41 20z\"/>\n",
              "  </svg>\n",
              "      </button>\n",
              "      \n",
              "  <style>\n",
              "    .colab-df-container {\n",
              "      display:flex;\n",
              "      flex-wrap:wrap;\n",
              "      gap: 12px;\n",
              "    }\n",
              "\n",
              "    .colab-df-convert {\n",
              "      background-color: #E8F0FE;\n",
              "      border: none;\n",
              "      border-radius: 50%;\n",
              "      cursor: pointer;\n",
              "      display: none;\n",
              "      fill: #1967D2;\n",
              "      height: 32px;\n",
              "      padding: 0 0 0 0;\n",
              "      width: 32px;\n",
              "    }\n",
              "\n",
              "    .colab-df-convert:hover {\n",
              "      background-color: #E2EBFA;\n",
              "      box-shadow: 0px 1px 2px rgba(60, 64, 67, 0.3), 0px 1px 3px 1px rgba(60, 64, 67, 0.15);\n",
              "      fill: #174EA6;\n",
              "    }\n",
              "\n",
              "    [theme=dark] .colab-df-convert {\n",
              "      background-color: #3B4455;\n",
              "      fill: #D2E3FC;\n",
              "    }\n",
              "\n",
              "    [theme=dark] .colab-df-convert:hover {\n",
              "      background-color: #434B5C;\n",
              "      box-shadow: 0px 1px 3px 1px rgba(0, 0, 0, 0.15);\n",
              "      filter: drop-shadow(0px 1px 2px rgba(0, 0, 0, 0.3));\n",
              "      fill: #FFFFFF;\n",
              "    }\n",
              "  </style>\n",
              "\n",
              "      <script>\n",
              "        const buttonEl =\n",
              "          document.querySelector('#df-475791c9-20ee-4d57-a6ec-8778820acb07 button.colab-df-convert');\n",
              "        buttonEl.style.display =\n",
              "          google.colab.kernel.accessAllowed ? 'block' : 'none';\n",
              "\n",
              "        async function convertToInteractive(key) {\n",
              "          const element = document.querySelector('#df-475791c9-20ee-4d57-a6ec-8778820acb07');\n",
              "          const dataTable =\n",
              "            await google.colab.kernel.invokeFunction('convertToInteractive',\n",
              "                                                     [key], {});\n",
              "          if (!dataTable) return;\n",
              "\n",
              "          const docLinkHtml = 'Like what you see? Visit the ' +\n",
              "            '<a target=\"_blank\" href=https://colab.research.google.com/notebooks/data_table.ipynb>data table notebook</a>'\n",
              "            + ' to learn more about interactive tables.';\n",
              "          element.innerHTML = '';\n",
              "          dataTable['output_type'] = 'display_data';\n",
              "          await google.colab.output.renderOutput(dataTable, element);\n",
              "          const docLink = document.createElement('div');\n",
              "          docLink.innerHTML = docLinkHtml;\n",
              "          element.appendChild(docLink);\n",
              "        }\n",
              "      </script>\n",
              "    </div>\n",
              "  </div>\n",
              "  "
            ]
          },
          "metadata": {},
          "execution_count": 13
        }
      ]
    },
    {
      "cell_type": "code",
      "source": [
        "# Previsores\n",
        "\n",
        "X_wine = base_wine.iloc[:,0:11].values"
      ],
      "metadata": {
        "id": "73bmvAfyUQUY"
      },
      "execution_count": 14,
      "outputs": []
    },
    {
      "cell_type": "code",
      "source": [
        "X_wine"
      ],
      "metadata": {
        "colab": {
          "base_uri": "https://localhost:8080/"
        },
        "id": "B5iSociVUhV9",
        "outputId": "1c46ae83-57af-4497-a3b4-906132740316"
      },
      "execution_count": 15,
      "outputs": [
        {
          "output_type": "execute_result",
          "data": {
            "text/plain": [
              "array([[ 7.  ,  0.27,  0.36, ...,  3.  ,  0.45,  8.8 ],\n",
              "       [ 6.3 ,  0.3 ,  0.34, ...,  3.3 ,  0.49,  9.5 ],\n",
              "       [ 8.1 ,  0.28,  0.4 , ...,  3.26,  0.44, 10.1 ],\n",
              "       ...,\n",
              "       [ 6.5 ,  0.24,  0.19, ...,  2.99,  0.46,  9.4 ],\n",
              "       [ 5.5 ,  0.29,  0.3 , ...,  3.34,  0.38, 12.8 ],\n",
              "       [ 6.  ,  0.21,  0.38, ...,  3.26,  0.32, 11.8 ]])"
            ]
          },
          "metadata": {},
          "execution_count": 15
        }
      ]
    },
    {
      "cell_type": "code",
      "source": [
        "# Classe\n",
        "\n",
        "Y_wine = base_wine.iloc[:,11].values "
      ],
      "metadata": {
        "id": "JXAU2jxEUzwM"
      },
      "execution_count": 16,
      "outputs": []
    },
    {
      "cell_type": "code",
      "source": [
        "Y_wine"
      ],
      "metadata": {
        "colab": {
          "base_uri": "https://localhost:8080/"
        },
        "id": "I4sVuBEdU8hB",
        "outputId": "6d630239-62cc-43b5-8f02-fc0b5d386852"
      },
      "execution_count": 17,
      "outputs": [
        {
          "output_type": "execute_result",
          "data": {
            "text/plain": [
              "array([6, 6, 6, ..., 6, 7, 6])"
            ]
          },
          "metadata": {},
          "execution_count": 17
        }
      ]
    },
    {
      "cell_type": "markdown",
      "source": [
        "# Padronização de Valores"
      ],
      "metadata": {
        "id": "SAk_PCRaVaNW"
      }
    },
    {
      "cell_type": "code",
      "source": [
        "from sklearn.preprocessing import StandardScaler"
      ],
      "metadata": {
        "id": "nfTiEWkFVdee"
      },
      "execution_count": 18,
      "outputs": []
    },
    {
      "cell_type": "code",
      "source": [
        "scaler_wine = StandardScaler()\n",
        "X_wine = scaler_wine.fit_transform(X_wine)"
      ],
      "metadata": {
        "id": "ML-a8pIWVnL5"
      },
      "execution_count": 19,
      "outputs": []
    },
    {
      "cell_type": "code",
      "source": [
        "X_wine[0]"
      ],
      "metadata": {
        "colab": {
          "base_uri": "https://localhost:8080/"
        },
        "id": "HqCR3X1aV0Tf",
        "outputId": "6bbc9796-672a-4e96-e524-db3f086c71fe"
      },
      "execution_count": 20,
      "outputs": [
        {
          "output_type": "execute_result",
          "data": {
            "text/plain": [
              "array([ 0.17209696, -0.0817699 ,  0.2132802 ,  2.82134917, -0.035355  ,\n",
              "        0.56993158,  0.74456503,  2.33151201, -1.24692128, -0.34918426,\n",
              "       -1.39315246])"
            ]
          },
          "metadata": {},
          "execution_count": 20
        }
      ]
    },
    {
      "cell_type": "markdown",
      "source": [
        "# Divisão de base em treinamento e teste"
      ],
      "metadata": {
        "id": "KJmf8BV7XH62"
      }
    },
    {
      "cell_type": "code",
      "source": [
        "from sklearn.model_selection import train_test_split"
      ],
      "metadata": {
        "id": "ErA_ZcxCXL_J"
      },
      "execution_count": 21,
      "outputs": []
    },
    {
      "cell_type": "code",
      "source": [
        "# Usaremos 75% da base\n",
        "\n",
        "X_wine_treinamento, X_wine_teste, Y_wine_treinamento, Y_wine_teste = train_test_split(X_wine, Y_wine, test_size = 0.15, random_state = 0)"
      ],
      "metadata": {
        "id": "dhA_YdGwX3Dh"
      },
      "execution_count": 22,
      "outputs": []
    },
    {
      "cell_type": "code",
      "source": [
        "# Registros para treinamento do algoritmo \n",
        "\n",
        "X_wine_treinamento.shape, Y_wine_treinamento.shape"
      ],
      "metadata": {
        "colab": {
          "base_uri": "https://localhost:8080/"
        },
        "id": "PxtrzOvdYS82",
        "outputId": "c41c183f-4288-4e3a-c9c0-ef0590323a66"
      },
      "execution_count": 23,
      "outputs": [
        {
          "output_type": "execute_result",
          "data": {
            "text/plain": [
              "((4163, 11), (4163,))"
            ]
          },
          "metadata": {},
          "execution_count": 23
        }
      ]
    },
    {
      "cell_type": "code",
      "source": [
        "# Registros para teste do algoritmo\n",
        "\n",
        "X_wine_teste.shape, Y_wine_teste.shape"
      ],
      "metadata": {
        "colab": {
          "base_uri": "https://localhost:8080/"
        },
        "id": "IAHi2DQYYYAm",
        "outputId": "8d4e2faa-da9a-4cdb-e973-951e9def10d0"
      },
      "execution_count": 24,
      "outputs": [
        {
          "output_type": "execute_result",
          "data": {
            "text/plain": [
              "((735, 11), (735,))"
            ]
          },
          "metadata": {},
          "execution_count": 24
        }
      ]
    },
    {
      "cell_type": "markdown",
      "source": [
        "# Salvando variáveis"
      ],
      "metadata": {
        "id": "6KruEp2-ZQRo"
      }
    },
    {
      "cell_type": "code",
      "source": [
        "import pickle"
      ],
      "metadata": {
        "id": "ooVgtjviZWl1"
      },
      "execution_count": 25,
      "outputs": []
    },
    {
      "cell_type": "code",
      "source": [
        "with open('wine.pkl', 'wb') as f:\n",
        "  pickle.dump([X_wine_treinamento, Y_wine_treinamento, X_wine_teste, Y_wine_teste], f)"
      ],
      "metadata": {
        "id": "Di37p-IS0mXm"
      },
      "execution_count": 26,
      "outputs": []
    },
    {
      "cell_type": "code",
      "source": [
        "with open('wine.pkl', 'rb') as f:\n",
        "  X_wine_treinamento, Y_wine_treinamento, X_wine_teste, Y_wine_teste = pickle.load(f)"
      ],
      "metadata": {
        "id": "RVnHfgzv04Zd"
      },
      "execution_count": 27,
      "outputs": []
    },
    {
      "cell_type": "code",
      "source": [
        "X_wine_treinamento.shape, Y_wine_treinamento.shape"
      ],
      "metadata": {
        "colab": {
          "base_uri": "https://localhost:8080/"
        },
        "id": "_Y8nkk441FGV",
        "outputId": "b6bdfc01-fa8d-414d-c7fd-d90212e33b05"
      },
      "execution_count": 28,
      "outputs": [
        {
          "output_type": "execute_result",
          "data": {
            "text/plain": [
              "((4163, 11), (4163,))"
            ]
          },
          "metadata": {},
          "execution_count": 28
        }
      ]
    },
    {
      "cell_type": "code",
      "source": [
        "X_wine_teste.shape, Y_wine_teste.shape"
      ],
      "metadata": {
        "colab": {
          "base_uri": "https://localhost:8080/"
        },
        "id": "cybsfcAD1NNz",
        "outputId": "2fb740ac-27fd-446d-cff6-ae582afb6c51"
      },
      "execution_count": 29,
      "outputs": [
        {
          "output_type": "execute_result",
          "data": {
            "text/plain": [
              "((735, 11), (735,))"
            ]
          },
          "metadata": {},
          "execution_count": 29
        }
      ]
    },
    {
      "cell_type": "markdown",
      "source": [
        "# Classificador Majority Learner"
      ],
      "metadata": {
        "id": "BsIfTn121RNq"
      }
    },
    {
      "cell_type": "markdown",
      "source": [
        "**Algoritmo para capturar a média de acertos para os demais algoritmos**"
      ],
      "metadata": {
        "id": "T6MANLVl1xjI"
      }
    },
    {
      "cell_type": "code",
      "source": [
        "#!pip install orange3"
      ],
      "metadata": {
        "id": "UODWru981mQD"
      },
      "execution_count": 30,
      "outputs": []
    },
    {
      "cell_type": "code",
      "source": [
        "#import Orange"
      ],
      "metadata": {
        "id": "GD_nrce115sb"
      },
      "execution_count": 31,
      "outputs": []
    },
    {
      "cell_type": "code",
      "source": [
        "#base_wine_regras = Orange.data.Table('/content/drive/MyDrive/Python Machine Learning/Wine Quality/winequality-white-regras-novo.xlsx')"
      ],
      "metadata": {
        "id": "S2yDzIWb18hk"
      },
      "execution_count": 32,
      "outputs": []
    },
    {
      "cell_type": "code",
      "source": [
        "#base_wine_regras"
      ],
      "metadata": {
        "id": "bUDm-n3h41Gz"
      },
      "execution_count": 33,
      "outputs": []
    },
    {
      "cell_type": "code",
      "source": [
        "#base_wine_regras.domain"
      ],
      "metadata": {
        "id": "-Inet8v04mJ3"
      },
      "execution_count": 34,
      "outputs": []
    },
    {
      "cell_type": "code",
      "source": [
        "#majority = Orange.classification.MajorityLearner()\n",
        "#previsoes = Orange.evaluation.testing.TestOnTestData(base_wine_regras, base_wine_regras, [majority])\n",
        "#Orange.evaluation.CA(previsoes)"
      ],
      "metadata": {
        "id": "JhDfqqfZ5Q7I"
      },
      "execution_count": 35,
      "outputs": []
    },
    {
      "cell_type": "markdown",
      "source": [
        "# Árvore de Decisão 57.41%"
      ],
      "metadata": {
        "id": "AJOdJMo9fLbR"
      }
    },
    {
      "cell_type": "code",
      "source": [
        "# Importando árvore\n",
        "\n",
        "from sklearn.tree import DecisionTreeClassifier"
      ],
      "metadata": {
        "id": "o6wDmPUKfsAp"
      },
      "execution_count": 36,
      "outputs": []
    },
    {
      "cell_type": "code",
      "source": [
        "# Carregando arquivo\n",
        "\n",
        "with open('wine.pkl', 'rb') as f:\n",
        "  X_wine_treinamento, Y_wine_treinamento, X_wine_teste, Y_wine_teste = pickle.load(f)"
      ],
      "metadata": {
        "id": "zzTF7EmLf7jr"
      },
      "execution_count": 37,
      "outputs": []
    },
    {
      "cell_type": "code",
      "source": [
        "X_wine_treinamento.shape, Y_wine_treinamento.shape"
      ],
      "metadata": {
        "colab": {
          "base_uri": "https://localhost:8080/"
        },
        "id": "ISQh1zmOgl0m",
        "outputId": "efaf2f3a-1c15-4ff2-bfd7-ee5eeb73e0b5"
      },
      "execution_count": 38,
      "outputs": [
        {
          "output_type": "execute_result",
          "data": {
            "text/plain": [
              "((4163, 11), (4163,))"
            ]
          },
          "metadata": {},
          "execution_count": 38
        }
      ]
    },
    {
      "cell_type": "code",
      "source": [
        "X_wine_teste.shape, Y_wine_teste.shape"
      ],
      "metadata": {
        "colab": {
          "base_uri": "https://localhost:8080/"
        },
        "id": "dYh9A2UHgptS",
        "outputId": "c2c7fa15-6468-44f1-8515-dec4bb5fa0e7"
      },
      "execution_count": 39,
      "outputs": [
        {
          "output_type": "execute_result",
          "data": {
            "text/plain": [
              "((735, 11), (735,))"
            ]
          },
          "metadata": {},
          "execution_count": 39
        }
      ]
    },
    {
      "cell_type": "code",
      "source": [
        "# Treinamento da árvore de decisão\n",
        "\n",
        "arvore_wine = DecisionTreeClassifier(criterion = 'entropy', random_state = 0)\n",
        "arvore_wine.fit(X_wine_treinamento, Y_wine_treinamento)"
      ],
      "metadata": {
        "colab": {
          "base_uri": "https://localhost:8080/"
        },
        "id": "EUw8cArjgw55",
        "outputId": "7640fef8-1715-430a-da1f-dd1101bcaa20"
      },
      "execution_count": 40,
      "outputs": [
        {
          "output_type": "execute_result",
          "data": {
            "text/plain": [
              "DecisionTreeClassifier(criterion='entropy', random_state=0)"
            ]
          },
          "metadata": {},
          "execution_count": 40
        }
      ]
    },
    {
      "cell_type": "code",
      "source": [
        "# Previsões\n",
        "\n",
        "previsoes = arvore_wine.predict(X_wine_teste)\n",
        "previsoes"
      ],
      "metadata": {
        "colab": {
          "base_uri": "https://localhost:8080/"
        },
        "id": "zywT9kPihD6N",
        "outputId": "e5de5dc2-2649-4a4d-dfbe-aa13cd5559c8"
      },
      "execution_count": 41,
      "outputs": [
        {
          "output_type": "execute_result",
          "data": {
            "text/plain": [
              "array([4, 6, 7, 5, 6, 5, 6, 7, 6, 6, 6, 7, 5, 6, 7, 6, 7, 6, 6, 6, 6, 6,\n",
              "       5, 5, 7, 8, 6, 5, 6, 5, 5, 5, 6, 6, 5, 7, 7, 7, 7, 5, 5, 5, 5, 6,\n",
              "       5, 6, 4, 7, 7, 6, 7, 6, 5, 6, 4, 7, 5, 6, 5, 6, 6, 6, 6, 6, 6, 6,\n",
              "       5, 6, 6, 5, 6, 5, 5, 7, 7, 6, 7, 5, 5, 7, 6, 6, 7, 5, 6, 7, 6, 7,\n",
              "       5, 6, 8, 7, 6, 8, 5, 5, 7, 6, 7, 6, 8, 5, 6, 6, 6, 6, 6, 6, 7, 5,\n",
              "       5, 6, 7, 7, 7, 7, 5, 6, 7, 7, 5, 6, 5, 5, 5, 7, 5, 6, 5, 6, 7, 6,\n",
              "       7, 6, 7, 5, 6, 7, 5, 5, 5, 7, 6, 6, 7, 7, 6, 5, 6, 7, 6, 6, 7, 7,\n",
              "       6, 5, 5, 6, 6, 7, 5, 6, 6, 7, 6, 6, 5, 6, 5, 6, 7, 7, 6, 6, 6, 6,\n",
              "       5, 5, 6, 5, 6, 6, 6, 7, 8, 5, 6, 6, 5, 6, 3, 6, 6, 7, 6, 7, 6, 6,\n",
              "       6, 6, 7, 6, 5, 8, 6, 5, 6, 6, 7, 5, 5, 8, 7, 6, 5, 8, 7, 6, 7, 7,\n",
              "       6, 6, 6, 6, 6, 5, 6, 4, 6, 6, 6, 7, 6, 4, 5, 5, 5, 7, 6, 5, 5, 7,\n",
              "       8, 5, 5, 7, 6, 5, 6, 6, 6, 7, 5, 6, 7, 5, 5, 5, 5, 6, 7, 6, 6, 6,\n",
              "       5, 6, 6, 6, 7, 5, 6, 7, 5, 6, 5, 5, 7, 6, 6, 6, 6, 5, 5, 5, 6, 6,\n",
              "       6, 6, 5, 7, 7, 7, 7, 7, 5, 6, 6, 5, 6, 7, 6, 6, 8, 6, 6, 6, 5, 6,\n",
              "       5, 5, 6, 5, 7, 7, 5, 5, 7, 6, 7, 7, 5, 6, 7, 7, 6, 6, 6, 5, 5, 7,\n",
              "       6, 7, 5, 5, 6, 6, 4, 5, 5, 4, 6, 6, 8, 7, 7, 7, 5, 8, 6, 6, 7, 6,\n",
              "       6, 6, 8, 4, 5, 6, 5, 7, 7, 7, 7, 6, 7, 5, 6, 7, 5, 6, 5, 6, 7, 5,\n",
              "       7, 5, 6, 6, 6, 4, 5, 5, 6, 6, 6, 6, 6, 6, 5, 5, 8, 6, 7, 7, 6, 7,\n",
              "       8, 5, 6, 6, 7, 5, 6, 5, 5, 6, 5, 6, 5, 6, 5, 6, 6, 6, 6, 6, 5, 7,\n",
              "       7, 7, 6, 6, 5, 5, 7, 5, 6, 6, 6, 7, 7, 7, 4, 6, 6, 6, 6, 5, 6, 6,\n",
              "       4, 6, 6, 6, 7, 7, 6, 7, 7, 6, 5, 6, 6, 5, 5, 6, 6, 6, 6, 6, 6, 5,\n",
              "       6, 6, 6, 8, 6, 5, 5, 6, 6, 6, 4, 5, 5, 7, 6, 6, 6, 6, 5, 5, 8, 4,\n",
              "       5, 6, 6, 6, 5, 4, 7, 5, 7, 5, 6, 6, 6, 5, 6, 5, 5, 5, 5, 5, 5, 5,\n",
              "       5, 5, 5, 6, 6, 6, 6, 7, 7, 5, 7, 6, 6, 7, 6, 6, 5, 5, 5, 6, 7, 6,\n",
              "       6, 7, 7, 5, 7, 6, 5, 5, 5, 6, 8, 6, 6, 7, 5, 6, 6, 7, 7, 5, 5, 6,\n",
              "       6, 5, 6, 5, 7, 6, 5, 5, 7, 8, 7, 7, 6, 6, 7, 6, 5, 5, 5, 5, 5, 6,\n",
              "       6, 6, 6, 6, 5, 5, 5, 6, 6, 6, 6, 5, 6, 7, 7, 7, 7, 6, 6, 7, 6, 6,\n",
              "       6, 6, 4, 6, 8, 6, 5, 5, 6, 5, 6, 7, 6, 6, 6, 4, 6, 5, 6, 7, 6, 7,\n",
              "       7, 7, 7, 6, 4, 8, 4, 6, 5, 4, 6, 5, 5, 6, 7, 5, 5, 6, 8, 6, 6, 6,\n",
              "       6, 5, 5, 5, 5, 6, 7, 7, 6, 5, 5, 7, 5, 7, 7, 6, 6, 5, 7, 5, 7, 6,\n",
              "       6, 5, 6, 5, 8, 5, 5, 6, 7, 6, 6, 5, 6, 6, 6, 5, 5, 5, 7, 5, 6, 7,\n",
              "       5, 6, 6, 8, 5, 7, 6, 6, 5, 6, 5, 6, 5, 6, 5, 6, 5, 5, 5, 6, 7, 7,\n",
              "       6, 6, 7, 7, 6, 6, 6, 6, 6, 5, 7, 6, 6, 6, 5, 6, 6, 7, 5, 6, 8, 5,\n",
              "       8, 6, 5, 7, 8, 7, 6, 5, 5])"
            ]
          },
          "metadata": {},
          "execution_count": 41
        }
      ]
    },
    {
      "cell_type": "code",
      "source": [
        "# Comparação\n",
        "\n",
        "Y_wine_teste"
      ],
      "metadata": {
        "colab": {
          "base_uri": "https://localhost:8080/"
        },
        "id": "acJOJVFQhLFt",
        "outputId": "479c48ff-23e7-424e-81f5-b054075702d0"
      },
      "execution_count": 42,
      "outputs": [
        {
          "output_type": "execute_result",
          "data": {
            "text/plain": [
              "array([5, 6, 7, 8, 5, 4, 6, 5, 7, 5, 6, 7, 5, 5, 6, 5, 6, 5, 6, 6, 6, 7,\n",
              "       6, 5, 7, 8, 5, 5, 7, 5, 5, 5, 7, 6, 5, 7, 7, 7, 7, 7, 5, 5, 5, 6,\n",
              "       6, 6, 5, 7, 7, 6, 7, 6, 3, 6, 5, 7, 5, 6, 5, 6, 6, 6, 8, 6, 8, 6,\n",
              "       5, 5, 6, 5, 7, 5, 5, 7, 6, 7, 6, 5, 5, 8, 4, 5, 6, 5, 6, 5, 6, 7,\n",
              "       5, 6, 6, 6, 6, 8, 4, 5, 7, 7, 7, 6, 7, 4, 4, 6, 5, 7, 6, 6, 6, 5,\n",
              "       5, 7, 7, 5, 7, 7, 4, 5, 8, 5, 5, 5, 6, 4, 5, 7, 5, 7, 5, 7, 6, 6,\n",
              "       6, 6, 6, 5, 6, 6, 6, 8, 6, 7, 5, 6, 8, 6, 7, 6, 6, 6, 7, 6, 7, 7,\n",
              "       4, 5, 5, 6, 6, 7, 4, 6, 7, 7, 5, 6, 5, 6, 5, 7, 7, 7, 6, 7, 6, 6,\n",
              "       5, 5, 6, 5, 6, 6, 8, 7, 6, 5, 5, 7, 6, 6, 6, 6, 6, 7, 6, 6, 6, 6,\n",
              "       6, 6, 4, 6, 6, 7, 6, 5, 7, 5, 7, 6, 5, 8, 7, 7, 6, 8, 6, 6, 6, 7,\n",
              "       6, 6, 7, 6, 6, 5, 5, 4, 6, 6, 5, 6, 7, 4, 5, 7, 6, 6, 6, 5, 6, 7,\n",
              "       8, 6, 6, 7, 5, 5, 7, 6, 7, 6, 6, 5, 7, 5, 5, 6, 6, 7, 7, 6, 6, 5,\n",
              "       4, 6, 6, 6, 7, 6, 7, 7, 6, 6, 5, 5, 6, 7, 3, 7, 6, 4, 5, 5, 5, 6,\n",
              "       5, 5, 4, 5, 7, 7, 7, 7, 5, 6, 5, 5, 6, 7, 5, 6, 6, 6, 5, 8, 5, 5,\n",
              "       6, 5, 4, 7, 7, 6, 6, 6, 6, 6, 6, 7, 4, 7, 6, 7, 6, 7, 6, 5, 5, 6,\n",
              "       7, 8, 5, 5, 7, 6, 4, 5, 5, 4, 7, 5, 6, 7, 7, 6, 5, 7, 4, 6, 5, 6,\n",
              "       5, 6, 7, 5, 5, 6, 5, 7, 7, 7, 7, 6, 7, 6, 5, 7, 5, 6, 6, 6, 6, 5,\n",
              "       7, 5, 8, 6, 6, 6, 6, 5, 6, 6, 6, 5, 5, 6, 5, 6, 7, 7, 7, 7, 7, 6,\n",
              "       6, 6, 5, 6, 7, 6, 5, 6, 8, 5, 5, 6, 5, 6, 5, 6, 6, 5, 6, 6, 5, 7,\n",
              "       6, 8, 6, 5, 4, 5, 6, 5, 6, 6, 6, 7, 6, 5, 5, 5, 6, 6, 6, 5, 6, 4,\n",
              "       4, 6, 6, 6, 7, 6, 7, 6, 7, 6, 6, 6, 6, 5, 6, 6, 6, 6, 6, 5, 6, 5,\n",
              "       6, 7, 5, 8, 4, 6, 5, 6, 5, 6, 8, 6, 4, 5, 6, 7, 6, 5, 6, 6, 6, 5,\n",
              "       6, 6, 6, 7, 6, 7, 7, 5, 7, 5, 6, 6, 5, 4, 6, 5, 5, 6, 6, 4, 5, 6,\n",
              "       5, 5, 6, 6, 6, 6, 6, 8, 7, 6, 7, 5, 6, 6, 7, 6, 5, 5, 5, 5, 7, 6,\n",
              "       6, 6, 7, 5, 7, 6, 4, 5, 5, 4, 7, 6, 6, 5, 5, 6, 6, 6, 6, 5, 5, 6,\n",
              "       6, 5, 6, 5, 7, 6, 4, 5, 6, 8, 6, 6, 5, 7, 5, 6, 5, 5, 5, 6, 5, 5,\n",
              "       6, 4, 6, 6, 5, 5, 7, 6, 4, 6, 5, 5, 7, 6, 6, 7, 6, 6, 6, 7, 6, 6,\n",
              "       6, 5, 6, 7, 8, 5, 5, 5, 6, 5, 6, 8, 6, 5, 6, 4, 6, 5, 6, 6, 6, 6,\n",
              "       7, 7, 6, 5, 6, 8, 3, 6, 5, 4, 6, 5, 6, 5, 7, 5, 5, 6, 8, 6, 6, 6,\n",
              "       6, 5, 5, 5, 6, 7, 7, 6, 6, 6, 6, 7, 5, 5, 7, 7, 6, 5, 7, 5, 6, 6,\n",
              "       7, 6, 6, 3, 3, 5, 5, 6, 6, 5, 6, 5, 5, 6, 4, 5, 4, 5, 6, 5, 6, 5,\n",
              "       7, 6, 5, 7, 5, 5, 8, 5, 5, 5, 6, 4, 5, 6, 5, 5, 6, 5, 5, 6, 7, 7,\n",
              "       6, 7, 5, 5, 6, 6, 5, 6, 6, 3, 7, 6, 6, 6, 6, 7, 5, 6, 5, 6, 7, 3,\n",
              "       7, 6, 6, 6, 7, 7, 6, 5, 5])"
            ]
          },
          "metadata": {},
          "execution_count": 42
        }
      ]
    },
    {
      "cell_type": "code",
      "source": [
        "# Classes\n",
        "\n",
        "arvore_wine.classes_"
      ],
      "metadata": {
        "colab": {
          "base_uri": "https://localhost:8080/"
        },
        "id": "bpD2lI-bhkKC",
        "outputId": "821f2f48-3f33-442c-c85a-ebff082988ff"
      },
      "execution_count": 43,
      "outputs": [
        {
          "output_type": "execute_result",
          "data": {
            "text/plain": [
              "array([3, 4, 5, 6, 7, 8, 9])"
            ]
          },
          "metadata": {},
          "execution_count": 43
        }
      ]
    },
    {
      "cell_type": "code",
      "source": [
        "# Accuracy\n",
        "\n",
        "accuracy_score(Y_wine_teste, previsoes)"
      ],
      "metadata": {
        "colab": {
          "base_uri": "https://localhost:8080/"
        },
        "id": "aVmMSCMch7lv",
        "outputId": "7e180b12-437b-4875-f8af-3756bee4a673"
      },
      "execution_count": 44,
      "outputs": [
        {
          "output_type": "execute_result",
          "data": {
            "text/plain": [
              "0.5741496598639456"
            ]
          },
          "metadata": {},
          "execution_count": 44
        }
      ]
    },
    {
      "cell_type": "code",
      "source": [
        "# Matrix de Confusão\n",
        "\n",
        "cm = ConfusionMatrix(arvore_wine)\n",
        "cm.fit(X_wine_treinamento, Y_wine_treinamento)\n",
        "cm.score(X_wine_teste, Y_wine_teste)"
      ],
      "metadata": {
        "colab": {
          "base_uri": "https://localhost:8080/",
          "height": 361
        },
        "id": "Gj4-vmVFiLqt",
        "outputId": "84dc5368-fd18-4035-f8ca-a69c0aa67b9c"
      },
      "execution_count": 45,
      "outputs": [
        {
          "output_type": "execute_result",
          "data": {
            "text/plain": [
              "0.5741496598639456"
            ]
          },
          "metadata": {},
          "execution_count": 45
        },
        {
          "output_type": "display_data",
          "data": {
            "text/plain": [
              "<Figure size 576x396 with 1 Axes>"
            ],
            "image/png": "[encoded data removed]"
          },
          "metadata": {}
        }
      ]
    },
    {
      "cell_type": "markdown",
      "source": [
        "# Random Forest 66.93%"
      ],
      "metadata": {
        "id": "eyDfHaLNp0tR"
      }
    },
    {
      "cell_type": "code",
      "source": [
        "# Importando Random Forest \n",
        "from sklearn.ensemble import RandomForestClassifier"
      ],
      "metadata": {
        "id": "pyKzNWC7p2mL"
      },
      "execution_count": 46,
      "outputs": []
    },
    {
      "cell_type": "code",
      "source": [
        "# Ler arquivo\n",
        "with open('wine.pkl', 'rb') as f:\n",
        "  X_wine_treinamento, Y_wine_treinamento, X_wine_teste, Y_wine_teste = pickle.load(f)"
      ],
      "metadata": {
        "id": "OgQ_09f8qI89"
      },
      "execution_count": 47,
      "outputs": []
    },
    {
      "cell_type": "code",
      "source": [
        "random_forest_wine = RandomForestClassifier(n_estimators=100, criterion ='entropy', random_state = 0)\n",
        "random_forest_wine.fit(X_wine_treinamento, Y_wine_treinamento)"
      ],
      "metadata": {
        "colab": {
          "base_uri": "https://localhost:8080/"
        },
        "id": "Qc9LCxfKqYMG",
        "outputId": "57e4ee3f-ec0c-4bc8-b90a-00307e84eda8"
      },
      "execution_count": 61,
      "outputs": [
        {
          "output_type": "execute_result",
          "data": {
            "text/plain": [
              "RandomForestClassifier(criterion='entropy', random_state=0)"
            ]
          },
          "metadata": {},
          "execution_count": 61
        }
      ]
    },
    {
      "cell_type": "code",
      "source": [
        "previsoes = random_forest_wine.predict(X_wine_teste)\n",
        "previsoes"
      ],
      "metadata": {
        "colab": {
          "base_uri": "https://localhost:8080/"
        },
        "id": "SGvvxK6Yq-jU",
        "outputId": "f4a9de06-1e1d-48e4-ce40-59439372b273"
      },
      "execution_count": 62,
      "outputs": [
        {
          "output_type": "execute_result",
          "data": {
            "text/plain": [
              "array([5, 6, 6, 7, 6, 5, 6, 6, 6, 5, 6, 7, 5, 6, 6, 6, 6, 5, 7, 6, 6, 6,\n",
              "       6, 6, 7, 8, 5, 5, 6, 6, 5, 5, 6, 6, 5, 7, 7, 7, 7, 6, 5, 5, 5, 6,\n",
              "       5, 6, 5, 7, 7, 6, 7, 6, 5, 6, 6, 7, 5, 6, 5, 6, 6, 5, 7, 6, 6, 6,\n",
              "       5, 5, 5, 5, 6, 5, 5, 6, 6, 6, 6, 5, 5, 6, 6, 5, 6, 6, 6, 5, 6, 7,\n",
              "       6, 6, 6, 6, 6, 8, 5, 6, 7, 5, 6, 6, 6, 5, 6, 6, 6, 7, 6, 6, 6, 5,\n",
              "       5, 6, 6, 6, 7, 7, 5, 5, 6, 5, 5, 6, 5, 5, 5, 7, 5, 6, 6, 7, 6, 6,\n",
              "       7, 6, 6, 5, 6, 6, 5, 6, 6, 7, 6, 6, 6, 7, 6, 7, 6, 6, 6, 6, 6, 7,\n",
              "       5, 6, 5, 6, 6, 7, 6, 6, 6, 7, 5, 6, 6, 6, 5, 5, 7, 7, 5, 6, 6, 6,\n",
              "       5, 5, 6, 5, 6, 6, 6, 6, 6, 5, 6, 6, 5, 6, 5, 6, 6, 7, 6, 6, 6, 6,\n",
              "       6, 6, 6, 6, 5, 6, 6, 6, 6, 5, 6, 6, 5, 8, 7, 6, 5, 8, 6, 6, 7, 7,\n",
              "       6, 6, 6, 6, 6, 5, 6, 5, 6, 5, 6, 6, 6, 4, 5, 6, 6, 6, 6, 5, 5, 7,\n",
              "       7, 6, 6, 7, 5, 5, 7, 6, 7, 6, 6, 6, 7, 5, 6, 6, 6, 7, 7, 6, 6, 6,\n",
              "       5, 6, 6, 6, 5, 6, 6, 7, 5, 6, 5, 5, 6, 6, 6, 6, 7, 5, 5, 5, 6, 6,\n",
              "       6, 5, 5, 6, 6, 7, 7, 6, 5, 5, 6, 6, 6, 7, 6, 6, 7, 6, 6, 6, 5, 6,\n",
              "       6, 5, 6, 6, 7, 6, 5, 5, 6, 5, 6, 7, 6, 7, 6, 7, 6, 6, 6, 5, 5, 6,\n",
              "       8, 7, 5, 6, 7, 6, 4, 5, 5, 4, 7, 6, 6, 7, 7, 6, 5, 7, 6, 6, 6, 6,\n",
              "       6, 6, 7, 6, 5, 6, 5, 7, 7, 6, 7, 6, 7, 5, 6, 7, 5, 6, 6, 6, 7, 5,\n",
              "       7, 5, 6, 6, 6, 6, 6, 5, 6, 6, 5, 5, 6, 6, 6, 5, 6, 7, 7, 7, 6, 7,\n",
              "       6, 6, 6, 6, 7, 6, 6, 6, 6, 6, 5, 6, 5, 6, 6, 6, 6, 6, 6, 6, 5, 7,\n",
              "       6, 7, 6, 6, 5, 5, 6, 5, 6, 6, 6, 7, 6, 6, 5, 5, 6, 6, 6, 5, 6, 6,\n",
              "       5, 6, 6, 6, 7, 7, 6, 6, 7, 6, 6, 6, 6, 5, 5, 5, 6, 6, 6, 5, 6, 5,\n",
              "       6, 6, 5, 8, 7, 5, 5, 6, 6, 6, 5, 5, 5, 5, 6, 6, 6, 6, 6, 6, 7, 5,\n",
              "       6, 6, 6, 7, 5, 7, 7, 5, 7, 5, 6, 6, 6, 5, 7, 5, 5, 6, 5, 5, 5, 5,\n",
              "       5, 6, 6, 6, 6, 6, 6, 7, 7, 5, 7, 6, 6, 6, 6, 6, 5, 5, 5, 5, 6, 6,\n",
              "       6, 6, 7, 6, 7, 6, 5, 5, 5, 6, 6, 5, 6, 6, 5, 6, 6, 6, 6, 5, 6, 6,\n",
              "       6, 6, 6, 5, 7, 6, 5, 5, 6, 8, 6, 7, 5, 6, 6, 6, 6, 5, 5, 6, 5, 5,\n",
              "       6, 6, 6, 6, 6, 5, 6, 6, 6, 6, 5, 5, 5, 6, 6, 7, 6, 6, 6, 7, 6, 6,\n",
              "       6, 6, 6, 6, 8, 5, 5, 5, 6, 5, 6, 7, 6, 6, 6, 4, 6, 5, 6, 6, 6, 6,\n",
              "       6, 7, 6, 6, 6, 8, 6, 6, 5, 5, 6, 5, 6, 6, 7, 5, 5, 6, 8, 6, 6, 5,\n",
              "       6, 6, 6, 6, 5, 6, 7, 6, 6, 6, 6, 7, 5, 6, 7, 6, 6, 6, 7, 5, 7, 5,\n",
              "       6, 6, 6, 5, 6, 5, 5, 6, 6, 5, 6, 5, 6, 6, 6, 5, 5, 5, 6, 5, 6, 5,\n",
              "       6, 6, 6, 7, 5, 6, 7, 5, 5, 6, 5, 5, 5, 6, 5, 6, 6, 5, 5, 6, 7, 7,\n",
              "       6, 7, 6, 5, 6, 6, 6, 6, 6, 5, 7, 6, 6, 6, 5, 6, 6, 6, 5, 6, 6, 5,\n",
              "       7, 6, 6, 6, 6, 7, 6, 6, 5])"
            ]
          },
          "metadata": {},
          "execution_count": 62
        }
      ]
    },
    {
      "cell_type": "code",
      "source": [
        "Y_wine_teste"
      ],
      "metadata": {
        "colab": {
          "base_uri": "https://localhost:8080/"
        },
        "id": "HR4x6OkCrGY2",
        "outputId": "50c64416-afeb-4a03-f643-9d285085e956"
      },
      "execution_count": 51,
      "outputs": [
        {
          "output_type": "execute_result",
          "data": {
            "text/plain": [
              "array([5, 6, 7, 8, 5, 4, 6, 5, 7, 5, 6, 7, 5, 5, 6, 5, 6, 5, 6, 6, 6, 7,\n",
              "       6, 5, 7, 8, 5, 5, 7, 5, 5, 5, 7, 6, 5, 7, 7, 7, 7, 7, 5, 5, 5, 6,\n",
              "       6, 6, 5, 7, 7, 6, 7, 6, 3, 6, 5, 7, 5, 6, 5, 6, 6, 6, 8, 6, 8, 6,\n",
              "       5, 5, 6, 5, 7, 5, 5, 7, 6, 7, 6, 5, 5, 8, 4, 5, 6, 5, 6, 5, 6, 7,\n",
              "       5, 6, 6, 6, 6, 8, 4, 5, 7, 7, 7, 6, 7, 4, 4, 6, 5, 7, 6, 6, 6, 5,\n",
              "       5, 7, 7, 5, 7, 7, 4, 5, 8, 5, 5, 5, 6, 4, 5, 7, 5, 7, 5, 7, 6, 6,\n",
              "       6, 6, 6, 5, 6, 6, 6, 8, 6, 7, 5, 6, 8, 6, 7, 6, 6, 6, 7, 6, 7, 7,\n",
              "       4, 5, 5, 6, 6, 7, 4, 6, 7, 7, 5, 6, 5, 6, 5, 7, 7, 7, 6, 7, 6, 6,\n",
              "       5, 5, 6, 5, 6, 6, 8, 7, 6, 5, 5, 7, 6, 6, 6, 6, 6, 7, 6, 6, 6, 6,\n",
              "       6, 6, 4, 6, 6, 7, 6, 5, 7, 5, 7, 6, 5, 8, 7, 7, 6, 8, 6, 6, 6, 7,\n",
              "       6, 6, 7, 6, 6, 5, 5, 4, 6, 6, 5, 6, 7, 4, 5, 7, 6, 6, 6, 5, 6, 7,\n",
              "       8, 6, 6, 7, 5, 5, 7, 6, 7, 6, 6, 5, 7, 5, 5, 6, 6, 7, 7, 6, 6, 5,\n",
              "       4, 6, 6, 6, 7, 6, 7, 7, 6, 6, 5, 5, 6, 7, 3, 7, 6, 4, 5, 5, 5, 6,\n",
              "       5, 5, 4, 5, 7, 7, 7, 7, 5, 6, 5, 5, 6, 7, 5, 6, 6, 6, 5, 8, 5, 5,\n",
              "       6, 5, 4, 7, 7, 6, 6, 6, 6, 6, 6, 7, 4, 7, 6, 7, 6, 7, 6, 5, 5, 6,\n",
              "       7, 8, 5, 5, 7, 6, 4, 5, 5, 4, 7, 5, 6, 7, 7, 6, 5, 7, 4, 6, 5, 6,\n",
              "       5, 6, 7, 5, 5, 6, 5, 7, 7, 7, 7, 6, 7, 6, 5, 7, 5, 6, 6, 6, 6, 5,\n",
              "       7, 5, 8, 6, 6, 6, 6, 5, 6, 6, 6, 5, 5, 6, 5, 6, 7, 7, 7, 7, 7, 6,\n",
              "       6, 6, 5, 6, 7, 6, 5, 6, 8, 5, 5, 6, 5, 6, 5, 6, 6, 5, 6, 6, 5, 7,\n",
              "       6, 8, 6, 5, 4, 5, 6, 5, 6, 6, 6, 7, 6, 5, 5, 5, 6, 6, 6, 5, 6, 4,\n",
              "       4, 6, 6, 6, 7, 6, 7, 6, 7, 6, 6, 6, 6, 5, 6, 6, 6, 6, 6, 5, 6, 5,\n",
              "       6, 7, 5, 8, 4, 6, 5, 6, 5, 6, 8, 6, 4, 5, 6, 7, 6, 5, 6, 6, 6, 5,\n",
              "       6, 6, 6, 7, 6, 7, 7, 5, 7, 5, 6, 6, 5, 4, 6, 5, 5, 6, 6, 4, 5, 6,\n",
              "       5, 5, 6, 6, 6, 6, 6, 8, 7, 6, 7, 5, 6, 6, 7, 6, 5, 5, 5, 5, 7, 6,\n",
              "       6, 6, 7, 5, 7, 6, 4, 5, 5, 4, 7, 6, 6, 5, 5, 6, 6, 6, 6, 5, 5, 6,\n",
              "       6, 5, 6, 5, 7, 6, 4, 5, 6, 8, 6, 6, 5, 7, 5, 6, 5, 5, 5, 6, 5, 5,\n",
              "       6, 4, 6, 6, 5, 5, 7, 6, 4, 6, 5, 5, 7, 6, 6, 7, 6, 6, 6, 7, 6, 6,\n",
              "       6, 5, 6, 7, 8, 5, 5, 5, 6, 5, 6, 8, 6, 5, 6, 4, 6, 5, 6, 6, 6, 6,\n",
              "       7, 7, 6, 5, 6, 8, 3, 6, 5, 4, 6, 5, 6, 5, 7, 5, 5, 6, 8, 6, 6, 6,\n",
              "       6, 5, 5, 5, 6, 7, 7, 6, 6, 6, 6, 7, 5, 5, 7, 7, 6, 5, 7, 5, 6, 6,\n",
              "       7, 6, 6, 3, 3, 5, 5, 6, 6, 5, 6, 5, 5, 6, 4, 5, 4, 5, 6, 5, 6, 5,\n",
              "       7, 6, 5, 7, 5, 5, 8, 5, 5, 5, 6, 4, 5, 6, 5, 5, 6, 5, 5, 6, 7, 7,\n",
              "       6, 7, 5, 5, 6, 6, 5, 6, 6, 3, 7, 6, 6, 6, 6, 7, 5, 6, 5, 6, 7, 3,\n",
              "       7, 6, 6, 6, 7, 7, 6, 5, 5])"
            ]
          },
          "metadata": {},
          "execution_count": 51
        }
      ]
    },
    {
      "cell_type": "code",
      "source": [
        "accuracy_score(Y_wine_teste, previsoes)"
      ],
      "metadata": {
        "colab": {
          "base_uri": "https://localhost:8080/"
        },
        "id": "i3rJZ3BarPpQ",
        "outputId": "f34c532e-bb7e-49b1-d7b3-f51ebae91291"
      },
      "execution_count": 63,
      "outputs": [
        {
          "output_type": "execute_result",
          "data": {
            "text/plain": [
              "0.6693877551020408"
            ]
          },
          "metadata": {},
          "execution_count": 63
        }
      ]
    },
    {
      "cell_type": "code",
      "source": [
        "from yellowbrick.classifier import confusion_matrix\n",
        "cm = ConfusionMatrix(random_forest_wine)\n",
        "cm.fit(X_wine_treinamento, Y_wine_treinamento)\n",
        "cm.score(X_wine_teste, Y_wine_teste)"
      ],
      "metadata": {
        "colab": {
          "base_uri": "https://localhost:8080/",
          "height": 361
        },
        "id": "iWR5TLidrUB_",
        "outputId": "2fb00c21-a4d3-41e3-8833-285133646ecb"
      },
      "execution_count": 64,
      "outputs": [
        {
          "output_type": "execute_result",
          "data": {
            "text/plain": [
              "0.6693877551020408"
            ]
          },
          "metadata": {},
          "execution_count": 64
        },
        {
          "output_type": "display_data",
          "data": {
            "text/plain": [
              "<Figure size 576x396 with 1 Axes>"
            ],
            "image/png": "[encoded data removed]"
          },
          "metadata": {}
        }
      ]
    }
  ]
}